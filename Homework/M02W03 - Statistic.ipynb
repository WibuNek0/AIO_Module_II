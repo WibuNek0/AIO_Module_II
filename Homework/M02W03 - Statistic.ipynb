{
  "cells": [
    {
      "cell_type": "markdown",
      "metadata": {
        "id": "mmZ9zkLVnus-"
      },
      "source": [
        "# **Statistic**"
      ]
    },
    {
      "cell_type": "code",
      "execution_count": 3,
      "metadata": {
        "colab": {
          "base_uri": "https://localhost:8080/"
        },
        "id": "f2LsASg2nuKh",
        "outputId": "3c54f160-4d41-46db-f8e2-aca1a1e6156f"
      },
      "outputs": [
        {
          "name": "stdout",
          "output_type": "stream",
          "text": [
            "Mean:  1.8\n"
          ]
        }
      ],
      "source": [
        "### Question 1\n",
        "import numpy as np\n",
        "\n",
        "def compute_mean(X):\n",
        "    return np.mean(X)\n",
        "\n",
        "X = [2, 0, 2, 2, 7, 4, -2, 5, -1, -1]\n",
        "\n",
        "print(\"Mean: \", compute_mean(X))"
      ]
    },
    {
      "cell_type": "code",
      "execution_count": 4,
      "metadata": {
        "colab": {
          "base_uri": "https://localhost:8080/"
        },
        "id": "lPdw2t_Tn9my",
        "outputId": "b7086239-7079-4793-83d2-032b71f7d29f"
      },
      "outputs": [
        {
          "name": "stdout",
          "output_type": "stream",
          "text": [
            "[ 1  4  4  5  9 13]\n",
            "Median:  4.5\n"
          ]
        }
      ],
      "source": [
        "### Question 2\n",
        "\n",
        "def compute_median(X):\n",
        "    size = len(X)\n",
        "    X = np.sort(X)\n",
        "    print(X)\n",
        "    if (size % 2 == 0):\n",
        "        return (X[size//2 - 1] + X[size//2]) / 2\n",
        "    else:\n",
        "        return X[size//2]\n",
        "\n",
        "X = [1, 5, 4, 4, 9, 13]\n",
        "print(\"Median: \", compute_median(X))"
      ]
    },
    {
      "cell_type": "code",
      "execution_count": 5,
      "metadata": {
        "colab": {
          "base_uri": "https://localhost:8080/"
        },
        "id": "rF43mmLtn_Y_",
        "outputId": "a90c257a-376e-4837-a096-ae864d4de45a"
      },
      "outputs": [
        {
          "name": "stdout",
          "output_type": "stream",
          "text": [
            "8.33\n"
          ]
        }
      ],
      "source": [
        "### Question 3\n",
        "\n",
        "def compute_std(X):\n",
        "    mean = compute_mean(X)\n",
        "    variance = 0\n",
        "    for x in X:\n",
        "        variance += (x - mean) ** 2\n",
        "    variance /= len(X)\n",
        "    return np.sqrt(variance)\n",
        "\n",
        "\n",
        "X = [ 171, 176, 155, 167, 169, 182]\n",
        "print(np.round(compute_std(X),2))"
      ]
    },
    {
      "cell_type": "code",
      "execution_count": 6,
      "metadata": {
        "colab": {
          "base_uri": "https://localhost:8080/"
        },
        "id": "MOOobYDaoBiJ",
        "outputId": "657d9d95-7f15-4992-db09-f1ddd5ea218e"
      },
      "outputs": [
        {
          "name": "stdout",
          "output_type": "stream",
          "text": [
            "Mean:  170.0\n",
            "edian:  170.0\n",
            "Std:  8.32666399786453\n",
            "Variance:  69.33333333333333\n"
          ]
        }
      ],
      "source": [
        "data = np.array([ 171, 176, 155, 167, 169, 182])\n",
        "\n",
        "print(\"Mean: \", np.mean(data))\n",
        "print(\"edian: \", np.median(data))\n",
        "print(\"Std: \", np.std(data))\n",
        "print(\"Variance: \", np.var(data))"
      ]
    },
    {
      "cell_type": "code",
      "execution_count": 10,
      "metadata": {
        "colab": {
          "base_uri": "https://localhost:8080/"
        },
        "id": "6GRQ70HxoEWl",
        "outputId": "affdc917-3e0a-4ab7-e7de-b0bbe74dd1f1"
      },
      "outputs": [
        {
          "name": "stdout",
          "output_type": "stream",
          "text": [
            "Correlation:  0.42\n"
          ]
        }
      ],
      "source": [
        "### Question 4\n",
        "\n",
        "def compute_correlation_cofficient(X, Y):\n",
        "    N = len(X)\n",
        "    mean_X = np.mean(X)\n",
        "    mean_Y = np.mean(Y)\n",
        "    covariance = 0\n",
        "    for i in range(N):\n",
        "        covariance += (X[i] - mean_X) * (Y[i] - mean_Y)\n",
        "    covariance /= N\n",
        "    std_X = np.std(X)\n",
        "    std_Y = np.std(Y)\n",
        "    return round(covariance / (std_X * std_Y), 2)\n",
        "\n",
        "X = np.asarray([-2, -5, -11, 6, 4, 15, 9])\n",
        "Y = np.asarray([4, 25, 121, 36, 16, 225, 81])\n",
        "print(\"Correlation: \", compute_correlation_cofficient(X,Y))"
      ]
    },
    {
      "cell_type": "code",
      "execution_count": 11,
      "metadata": {
        "colab": {
          "base_uri": "https://localhost:8080/"
        },
        "id": "FMEgO-P9oHBr",
        "outputId": "e0151a2b-d057-4590-9dfc-9996d6d3a348"
      },
      "outputs": [
        {
          "data": {
            "text/plain": [
              "array([[0.83452205, 0.65222593, 0.65845688],\n",
              "       [0.09959547, 0.44495073, 0.18297248]])"
            ]
          },
          "execution_count": 11,
          "metadata": {},
          "output_type": "execute_result"
        }
      ],
      "source": [
        "data = np.random.uniform(0, 1, (2, 3))\n",
        "data"
      ]
    },
    {
      "cell_type": "code",
      "execution_count": 12,
      "metadata": {
        "colab": {
          "base_uri": "https://localhost:8080/"
        },
        "id": "dBF-pcK1oIrJ",
        "outputId": "515b1346-98a7-47e3-cece-2506b6c49ae1"
      },
      "outputs": [
        {
          "data": {
            "text/plain": [
              "array([[-1.00237229,  0.18066262, -0.24290628],\n",
              "       [ 0.15142953,  2.12626434, -0.4988724 ]])"
            ]
          },
          "execution_count": 12,
          "metadata": {},
          "output_type": "execute_result"
        }
      ],
      "source": [
        "data = np.random.normal(0, 1, (2, 3))\n",
        "data"
      ]
    },
    {
      "cell_type": "markdown",
      "metadata": {
        "id": "XMu2a1d9nCz3"
      },
      "source": [
        "# **Tabular Data Analysis**"
      ]
    },
    {
      "cell_type": "code",
      "execution_count": 13,
      "metadata": {
        "id": "wp7IKstpnItZ"
      },
      "outputs": [],
      "source": [
        "import pandas as pd\n",
        "import numpy as np\n",
        "import seaborn as sns\n",
        "import matplotlib.pyplot as plt"
      ]
    },
    {
      "cell_type": "code",
      "execution_count": 14,
      "metadata": {
        "colab": {
          "base_uri": "https://localhost:8080/"
        },
        "id": "zl19auhnnGM3",
        "outputId": "a3655ae3-568d-4eb4-9879-3ca1aaaea744"
      },
      "outputs": [
        {
          "name": "stderr",
          "output_type": "stream",
          "text": [
            "Downloading...\n",
            "From: https://drive.google.com/uc?id=1iA0WmVfW88HyJvTBSQDI5vesf-pgKabq\n",
            "To: d:\\GitHub\\AIO_Module_II\\Homework\\advertising.csv\n",
            "\n",
            "  0%|          | 0.00/4.06k [00:00<?, ?B/s]\n",
            "100%|██████████| 4.06k/4.06k [00:00<00:00, 4.02MB/s]\n"
          ]
        }
      ],
      "source": [
        "!gdown 1iA0WmVfW88HyJvTBSQDI5vesf-pgKabq"
      ]
    },
    {
      "cell_type": "code",
      "execution_count": 15,
      "metadata": {
        "colab": {
          "base_uri": "https://localhost:8080/",
          "height": 424
        },
        "id": "KqfdBejlnPrq",
        "outputId": "0249e442-8949-4db1-b6d4-4b40a03da40f"
      },
      "outputs": [
        {
          "data": {
            "text/html": [
              "<div>\n",
              "<style scoped>\n",
              "    .dataframe tbody tr th:only-of-type {\n",
              "        vertical-align: middle;\n",
              "    }\n",
              "\n",
              "    .dataframe tbody tr th {\n",
              "        vertical-align: top;\n",
              "    }\n",
              "\n",
              "    .dataframe thead th {\n",
              "        text-align: right;\n",
              "    }\n",
              "</style>\n",
              "<table border=\"1\" class=\"dataframe\">\n",
              "  <thead>\n",
              "    <tr style=\"text-align: right;\">\n",
              "      <th></th>\n",
              "      <th>TV</th>\n",
              "      <th>Radio</th>\n",
              "      <th>Newspaper</th>\n",
              "      <th>Sales</th>\n",
              "    </tr>\n",
              "  </thead>\n",
              "  <tbody>\n",
              "    <tr>\n",
              "      <th>0</th>\n",
              "      <td>230.1</td>\n",
              "      <td>37.8</td>\n",
              "      <td>69.2</td>\n",
              "      <td>22.1</td>\n",
              "    </tr>\n",
              "    <tr>\n",
              "      <th>1</th>\n",
              "      <td>44.5</td>\n",
              "      <td>39.3</td>\n",
              "      <td>45.1</td>\n",
              "      <td>10.4</td>\n",
              "    </tr>\n",
              "    <tr>\n",
              "      <th>2</th>\n",
              "      <td>17.2</td>\n",
              "      <td>45.9</td>\n",
              "      <td>69.3</td>\n",
              "      <td>12.0</td>\n",
              "    </tr>\n",
              "    <tr>\n",
              "      <th>3</th>\n",
              "      <td>151.5</td>\n",
              "      <td>41.3</td>\n",
              "      <td>58.5</td>\n",
              "      <td>16.5</td>\n",
              "    </tr>\n",
              "    <tr>\n",
              "      <th>4</th>\n",
              "      <td>180.8</td>\n",
              "      <td>10.8</td>\n",
              "      <td>58.4</td>\n",
              "      <td>17.9</td>\n",
              "    </tr>\n",
              "    <tr>\n",
              "      <th>...</th>\n",
              "      <td>...</td>\n",
              "      <td>...</td>\n",
              "      <td>...</td>\n",
              "      <td>...</td>\n",
              "    </tr>\n",
              "    <tr>\n",
              "      <th>195</th>\n",
              "      <td>38.2</td>\n",
              "      <td>3.7</td>\n",
              "      <td>13.8</td>\n",
              "      <td>7.6</td>\n",
              "    </tr>\n",
              "    <tr>\n",
              "      <th>196</th>\n",
              "      <td>94.2</td>\n",
              "      <td>4.9</td>\n",
              "      <td>8.1</td>\n",
              "      <td>14.0</td>\n",
              "    </tr>\n",
              "    <tr>\n",
              "      <th>197</th>\n",
              "      <td>177.0</td>\n",
              "      <td>9.3</td>\n",
              "      <td>6.4</td>\n",
              "      <td>14.8</td>\n",
              "    </tr>\n",
              "    <tr>\n",
              "      <th>198</th>\n",
              "      <td>283.6</td>\n",
              "      <td>42.0</td>\n",
              "      <td>66.2</td>\n",
              "      <td>25.5</td>\n",
              "    </tr>\n",
              "    <tr>\n",
              "      <th>199</th>\n",
              "      <td>232.1</td>\n",
              "      <td>8.6</td>\n",
              "      <td>8.7</td>\n",
              "      <td>18.4</td>\n",
              "    </tr>\n",
              "  </tbody>\n",
              "</table>\n",
              "<p>200 rows × 4 columns</p>\n",
              "</div>"
            ],
            "text/plain": [
              "        TV  Radio  Newspaper  Sales\n",
              "0    230.1   37.8       69.2   22.1\n",
              "1     44.5   39.3       45.1   10.4\n",
              "2     17.2   45.9       69.3   12.0\n",
              "3    151.5   41.3       58.5   16.5\n",
              "4    180.8   10.8       58.4   17.9\n",
              "..     ...    ...        ...    ...\n",
              "195   38.2    3.7       13.8    7.6\n",
              "196   94.2    4.9        8.1   14.0\n",
              "197  177.0    9.3        6.4   14.8\n",
              "198  283.6   42.0       66.2   25.5\n",
              "199  232.1    8.6        8.7   18.4\n",
              "\n",
              "[200 rows x 4 columns]"
            ]
          },
          "execution_count": 15,
          "metadata": {},
          "output_type": "execute_result"
        }
      ],
      "source": [
        "data = pd.read_csv(\"./advertising.csv\")\n",
        "data"
      ]
    },
    {
      "cell_type": "code",
      "execution_count": 16,
      "metadata": {
        "colab": {
          "base_uri": "https://localhost:8080/"
        },
        "id": "JdiA6jtunUuV",
        "outputId": "b9f33175-ae25-456e-c214-0911e8572fce"
      },
      "outputs": [
        {
          "data": {
            "text/plain": [
              "(      TV  Radio  Newspaper  Sales\n",
              " 0  230.1   37.8       69.2   22.1\n",
              " 1   44.5   39.3       45.1   10.4\n",
              " 2   17.2   45.9       69.3   12.0\n",
              " 3  151.5   41.3       58.5   16.5\n",
              " 4  180.8   10.8       58.4   17.9,\n",
              "         TV  Radio  Newspaper  Sales\n",
              " 195   38.2    3.7       13.8    7.6\n",
              " 196   94.2    4.9        8.1   14.0\n",
              " 197  177.0    9.3        6.4   14.8\n",
              " 198  283.6   42.0       66.2   25.5\n",
              " 199  232.1    8.6        8.7   18.4)"
            ]
          },
          "execution_count": 16,
          "metadata": {},
          "output_type": "execute_result"
        }
      ],
      "source": [
        "data.head(5), data.tail(5)"
      ]
    },
    {
      "cell_type": "code",
      "execution_count": 17,
      "metadata": {
        "colab": {
          "base_uri": "https://localhost:8080/"
        },
        "id": "IM1znMCfnZWI",
        "outputId": "3f72c2df-ca44-4bc4-b20d-d13d878b758e"
      },
      "outputs": [
        {
          "name": "stdout",
          "output_type": "stream",
          "text": [
            "<class 'pandas.core.frame.DataFrame'>\n",
            "RangeIndex: 200 entries, 0 to 199\n",
            "Data columns (total 4 columns):\n",
            " #   Column     Non-Null Count  Dtype  \n",
            "---  ------     --------------  -----  \n",
            " 0   TV         200 non-null    float64\n",
            " 1   Radio      200 non-null    float64\n",
            " 2   Newspaper  200 non-null    float64\n",
            " 3   Sales      200 non-null    float64\n",
            "dtypes: float64(4)\n",
            "memory usage: 6.4 KB\n"
          ]
        }
      ],
      "source": [
        "data.info()"
      ]
    },
    {
      "cell_type": "code",
      "execution_count": 18,
      "metadata": {
        "id": "Tbebi-Tdnb9s"
      },
      "outputs": [],
      "source": [
        "def correlation(x, y):\n",
        "    x_mean = np.mean(x)\n",
        "    y_mean = np.mean(y)\n",
        "\n",
        "    covariance = 0\n",
        "    for i in range(len(x)):\n",
        "        covariance += (x[i] - x_mean) * (y[i] - y_mean)\n",
        "    covariance /= len(x)\n",
        "    std_X = np.std(x)\n",
        "    std_Y = np.std(y)\n",
        "    return round(covariance / (std_X * std_Y), 2)"
      ]
    },
    {
      "cell_type": "code",
      "execution_count": 20,
      "metadata": {
        "colab": {
          "base_uri": "https://localhost:8080/"
        },
        "id": "C5u_Z5ZSnd7c",
        "outputId": "1dd5cc69-9d3d-43ef-833a-7c06786d87cc"
      },
      "outputs": [
        {
          "name": "stdout",
          "output_type": "stream",
          "text": [
            "0.05\n"
          ]
        }
      ],
      "source": [
        "x = data['TV']\n",
        "y = data['Radio']\n",
        "\n",
        "result = correlation(x, y)\n",
        "print(round(result, 2))"
      ]
    },
    {
      "cell_type": "code",
      "execution_count": 21,
      "metadata": {
        "colab": {
          "base_uri": "https://localhost:8080/"
        },
        "id": "zczbHZfWngM2",
        "outputId": "33878af5-b81e-43ef-cbed-73d0f87616d9"
      },
      "outputs": [
        {
          "name": "stdout",
          "output_type": "stream",
          "text": [
            "TV and TV: 1.0\n",
            "TV and Radio: 0.05\n",
            "TV and Newspaper: 0.06\n",
            "Radio and TV: 0.05\n",
            "Radio and Radio: 1.0\n",
            "Radio and Newspaper: 0.35\n",
            "Newspaper and TV: 0.06\n",
            "Newspaper and Radio: 0.35\n",
            "Newspaper and Newspaper: 1.0\n"
          ]
        }
      ],
      "source": [
        "features = ['TV', 'Radio', 'Newspaper']\n",
        "\n",
        "for feature_1 in features:\n",
        "  for feature_2 in features:\n",
        "      correlation_value = correlation(data[feature_1], data[feature_2])\n",
        "      print(f\"{feature_1} and {feature_2}: {round(correlation_value, 2)}\")"
      ]
    },
    {
      "cell_type": "code",
      "execution_count": 27,
      "metadata": {
        "colab": {
          "base_uri": "https://localhost:8080/"
        },
        "id": "nyOj4GfAnie_",
        "outputId": "76fb2e62-e902-4451-acb0-143043563e44"
      },
      "outputs": [
        {
          "name": "stdout",
          "output_type": "stream",
          "text": [
            "[[1.         0.35410375]\n",
            " [0.35410375 1.        ]]\n"
          ]
        }
      ],
      "source": [
        "x = data['Radio']\n",
        "y = data['Newspaper']\n",
        "\n",
        "result = np.corrcoef(x, y)\n",
        "\n",
        "print(result)"
      ]
    },
    {
      "cell_type": "code",
      "execution_count": 30,
      "metadata": {
        "colab": {
          "base_uri": "https://localhost:8080/",
          "height": 175
        },
        "id": "ZsiU8hGonlVk",
        "outputId": "e0c72318-5ff1-4b84-bceb-4fec232d17fe"
      },
      "outputs": [
        {
          "data": {
            "text/html": [
              "<div>\n",
              "<style scoped>\n",
              "    .dataframe tbody tr th:only-of-type {\n",
              "        vertical-align: middle;\n",
              "    }\n",
              "\n",
              "    .dataframe tbody tr th {\n",
              "        vertical-align: top;\n",
              "    }\n",
              "\n",
              "    .dataframe thead th {\n",
              "        text-align: right;\n",
              "    }\n",
              "</style>\n",
              "<table border=\"1\" class=\"dataframe\">\n",
              "  <thead>\n",
              "    <tr style=\"text-align: right;\">\n",
              "      <th></th>\n",
              "      <th>TV</th>\n",
              "      <th>Radio</th>\n",
              "      <th>Newspaper</th>\n",
              "      <th>Sales</th>\n",
              "    </tr>\n",
              "  </thead>\n",
              "  <tbody>\n",
              "    <tr>\n",
              "      <th>TV</th>\n",
              "      <td>1.000000</td>\n",
              "      <td>0.054809</td>\n",
              "      <td>0.056648</td>\n",
              "      <td>0.901208</td>\n",
              "    </tr>\n",
              "    <tr>\n",
              "      <th>Radio</th>\n",
              "      <td>0.054809</td>\n",
              "      <td>1.000000</td>\n",
              "      <td>0.354104</td>\n",
              "      <td>0.349631</td>\n",
              "    </tr>\n",
              "    <tr>\n",
              "      <th>Newspaper</th>\n",
              "      <td>0.056648</td>\n",
              "      <td>0.354104</td>\n",
              "      <td>1.000000</td>\n",
              "      <td>0.157960</td>\n",
              "    </tr>\n",
              "    <tr>\n",
              "      <th>Sales</th>\n",
              "      <td>0.901208</td>\n",
              "      <td>0.349631</td>\n",
              "      <td>0.157960</td>\n",
              "      <td>1.000000</td>\n",
              "    </tr>\n",
              "  </tbody>\n",
              "</table>\n",
              "</div>"
            ],
            "text/plain": [
              "                 TV     Radio  Newspaper     Sales\n",
              "TV         1.000000  0.054809   0.056648  0.901208\n",
              "Radio      0.054809  1.000000   0.354104  0.349631\n",
              "Newspaper  0.056648  0.354104   1.000000  0.157960\n",
              "Sales      0.901208  0.349631   0.157960  1.000000"
            ]
          },
          "execution_count": 30,
          "metadata": {},
          "output_type": "execute_result"
        }
      ],
      "source": [
        "data_corr = data.corr()\n",
        "data_corr"
      ]
    },
    {
      "cell_type": "code",
      "execution_count": 31,
      "metadata": {
        "colab": {
          "base_uri": "https://localhost:8080/",
          "height": 682
        },
        "id": "u8pCY0nlno8D",
        "outputId": "4cb1c581-21fa-41df-a9db-5f7fe25fb472"
      },
      "outputs": [
        {
          "data": {
            "image/png": "[encoded data removed]",
            "text/plain": [
              "<Figure size 1000x800 with 2 Axes>"
            ]
          },
          "metadata": {},
          "output_type": "display_data"
        }
      ],
      "source": [
        "plt.figure(figsize=(10,8))\n",
        "sns.heatmap(data_corr, annot=True, fmt=\".2f\", linewidth=.5)\n",
        "plt.show()"
      ]
    },
    {
      "cell_type": "markdown",
      "metadata": {
        "id": "AMLPbmtlmn_q"
      },
      "source": [
        "# **Vietnamese Text Retrieval**"
      ]
    },
    {
      "cell_type": "code",
      "execution_count": 32,
      "metadata": {
        "id": "F_RG89NVbXzg"
      },
      "outputs": [],
      "source": [
        "import pandas as pd\n",
        "import numpy as np\n",
        "from sklearn.metrics.pairwise import cosine_similarity\n",
        "from sklearn.feature_extraction.text import TfidfVectorizer"
      ]
    },
    {
      "cell_type": "code",
      "execution_count": 33,
      "metadata": {
        "colab": {
          "base_uri": "https://localhost:8080/"
        },
        "id": "Pd3Ti9glgMpR",
        "outputId": "14ffc200-60d1-448c-f21b-4d9b4fb3b4cd"
      },
      "outputs": [
        {
          "name": "stderr",
          "output_type": "stream",
          "text": [
            "Downloading...\n",
            "From: https://drive.google.com/uc?id=1jh2p2DlaWsDo_vEWIcTrNh3mUuXd-cw6\n",
            "To: d:\\GitHub\\AIO_Module_II\\Homework\\vi_text_retrieval.csv\n",
            "\n",
            "  0%|          | 0.00/201k [00:00<?, ?B/s]\n",
            "100%|██████████| 201k/201k [00:00<00:00, 2.90MB/s]\n"
          ]
        }
      ],
      "source": [
        "!gdown 1jh2p2DlaWsDo_vEWIcTrNh3mUuXd-cw6"
      ]
    },
    {
      "cell_type": "markdown",
      "metadata": {
        "id": "Co9UkVavbwnj"
      },
      "source": [
        "## **TF-IDF**"
      ]
    },
    {
      "cell_type": "code",
      "execution_count": 34,
      "metadata": {
        "id": "pwNe_Q8Ab4w-"
      },
      "outputs": [],
      "source": [
        "vi_data_df = pd.read_csv(\"./vi_text_retrieval.csv\")"
      ]
    },
    {
      "cell_type": "code",
      "execution_count": 35,
      "metadata": {
        "colab": {
          "base_uri": "https://localhost:8080/",
          "height": 597
        },
        "id": "Mn-PALoScGu_",
        "outputId": "f138f115-e013-4cbf-8425-acd9bf67be51"
      },
      "outputs": [
        {
          "data": {
            "text/html": [
              "<div>\n",
              "<style scoped>\n",
              "    .dataframe tbody tr th:only-of-type {\n",
              "        vertical-align: middle;\n",
              "    }\n",
              "\n",
              "    .dataframe tbody tr th {\n",
              "        vertical-align: top;\n",
              "    }\n",
              "\n",
              "    .dataframe thead th {\n",
              "        text-align: right;\n",
              "    }\n",
              "</style>\n",
              "<table border=\"1\" class=\"dataframe\">\n",
              "  <thead>\n",
              "    <tr style=\"text-align: right;\">\n",
              "      <th></th>\n",
              "      <th>id</th>\n",
              "      <th>question</th>\n",
              "      <th>text</th>\n",
              "    </tr>\n",
              "  </thead>\n",
              "  <tbody>\n",
              "    <tr>\n",
              "      <th>0</th>\n",
              "      <td>1570446247</td>\n",
              "      <td>Quang Hải giành được chức vô địch U21 quốc gia...</td>\n",
              "      <td>Năm 2013 , Nguyễn Quang Hải giành chức vô địch...</td>\n",
              "    </tr>\n",
              "    <tr>\n",
              "      <th>1</th>\n",
              "      <td>1570445661</td>\n",
              "      <td>Mỗi hiệp bóng đá kéo dài bao lâu</td>\n",
              "      <td>Một trận đấu bóng đá thông thường có hai hiệp ...</td>\n",
              "    </tr>\n",
              "    <tr>\n",
              "      <th>2</th>\n",
              "      <td>1570382095</td>\n",
              "      <td>Quân đội Hoa Kỳ gồm những lực lượng nào</td>\n",
              "      <td>Quân đội Hoa Kỳ hay Các lực lượng vũ trang Hoa...</td>\n",
              "    </tr>\n",
              "    <tr>\n",
              "      <th>3</th>\n",
              "      <td>1570382072</td>\n",
              "      <td>Ngọc Lan là ai</td>\n",
              "      <td>Ngọc Lan ( 28 tháng 12 năm 1956 - 6 tháng 3 20...</td>\n",
              "    </tr>\n",
              "    <tr>\n",
              "      <th>4</th>\n",
              "      <td>1570382037</td>\n",
              "      <td>Thu Phương từng được những giải thưởng nào</td>\n",
              "      <td>Cô được coi là một trong những ca sĩ thuộc thế...</td>\n",
              "    </tr>\n",
              "    <tr>\n",
              "      <th>...</th>\n",
              "      <td>...</td>\n",
              "      <td>...</td>\n",
              "      <td>...</td>\n",
              "    </tr>\n",
              "    <tr>\n",
              "      <th>495</th>\n",
              "      <td>1569486091</td>\n",
              "      <td>Dân số của Sóc Trăng đứng thứ mấy trong khu vự...</td>\n",
              "      <td>Sóc Trăng là một tỉnh ven biển thuộc đồng bằng...</td>\n",
              "    </tr>\n",
              "    <tr>\n",
              "      <th>496</th>\n",
              "      <td>1569486072</td>\n",
              "      <td>Các nguyên lý toán học của triết học tự nhiên ...</td>\n",
              "      <td>Đây là những điều cơ bản tiên quyết của cơ học...</td>\n",
              "    </tr>\n",
              "    <tr>\n",
              "      <th>497</th>\n",
              "      <td>1569486003</td>\n",
              "      <td>Biến đổi khí hậu Trái Đất là gì</td>\n",
              "      <td>Biến đổi khí hậu là những biến đổi trong môi t...</td>\n",
              "    </tr>\n",
              "    <tr>\n",
              "      <th>498</th>\n",
              "      <td>1569485614</td>\n",
              "      <td>Phanxicô Xaviê Trương Bửu Diệp mất vào năm nào</td>\n",
              "      <td>Phanxicô Xaviê Trương Bửu Diệp ( 1 tháng 1 năm...</td>\n",
              "    </tr>\n",
              "    <tr>\n",
              "      <th>499</th>\n",
              "      <td>1569485573</td>\n",
              "      <td>Mật độ dân số của vùng trung du và miền núi ph...</td>\n",
              "      <td>Vùng trung du miền núi phía bắc , trước năm 19...</td>\n",
              "    </tr>\n",
              "  </tbody>\n",
              "</table>\n",
              "<p>500 rows × 3 columns</p>\n",
              "</div>"
            ],
            "text/plain": [
              "             id                                           question  \\\n",
              "0    1570446247  Quang Hải giành được chức vô địch U21 quốc gia...   \n",
              "1    1570445661                   Mỗi hiệp bóng đá kéo dài bao lâu   \n",
              "2    1570382095            Quân đội Hoa Kỳ gồm những lực lượng nào   \n",
              "3    1570382072                                     Ngọc Lan là ai   \n",
              "4    1570382037         Thu Phương từng được những giải thưởng nào   \n",
              "..          ...                                                ...   \n",
              "495  1569486091  Dân số của Sóc Trăng đứng thứ mấy trong khu vự...   \n",
              "496  1569486072  Các nguyên lý toán học của triết học tự nhiên ...   \n",
              "497  1569486003                    Biến đổi khí hậu Trái Đất là gì   \n",
              "498  1569485614     Phanxicô Xaviê Trương Bửu Diệp mất vào năm nào   \n",
              "499  1569485573  Mật độ dân số của vùng trung du và miền núi ph...   \n",
              "\n",
              "                                                  text  \n",
              "0    Năm 2013 , Nguyễn Quang Hải giành chức vô địch...  \n",
              "1    Một trận đấu bóng đá thông thường có hai hiệp ...  \n",
              "2    Quân đội Hoa Kỳ hay Các lực lượng vũ trang Hoa...  \n",
              "3    Ngọc Lan ( 28 tháng 12 năm 1956 - 6 tháng 3 20...  \n",
              "4    Cô được coi là một trong những ca sĩ thuộc thế...  \n",
              "..                                                 ...  \n",
              "495  Sóc Trăng là một tỉnh ven biển thuộc đồng bằng...  \n",
              "496  Đây là những điều cơ bản tiên quyết của cơ học...  \n",
              "497  Biến đổi khí hậu là những biến đổi trong môi t...  \n",
              "498  Phanxicô Xaviê Trương Bửu Diệp ( 1 tháng 1 năm...  \n",
              "499  Vùng trung du miền núi phía bắc , trước năm 19...  \n",
              "\n",
              "[500 rows x 3 columns]"
            ]
          },
          "execution_count": 35,
          "metadata": {},
          "output_type": "execute_result"
        }
      ],
      "source": [
        "vi_data_df"
      ]
    },
    {
      "cell_type": "code",
      "execution_count": 36,
      "metadata": {
        "id": "X9zk5CDhcUmL"
      },
      "outputs": [],
      "source": [
        "context = vi_data_df['text']"
      ]
    },
    {
      "cell_type": "code",
      "execution_count": 37,
      "metadata": {
        "id": "IaxLcUFedwWm"
      },
      "outputs": [],
      "source": [
        "context = [doc.lower() for doc in context]"
      ]
    },
    {
      "cell_type": "code",
      "execution_count": 38,
      "metadata": {
        "colab": {
          "base_uri": "https://localhost:8080/"
        },
        "id": "DAexQgZbcfct",
        "outputId": "acfb491d-66b6-4e25-95e9-0456e8ca0b1e"
      },
      "outputs": [
        {
          "data": {
            "text/plain": [
              "['năm 2013 , nguyễn quang hải giành chức vô địch u21 quốc gia 2013 cùng với đội trẻ hà nội t&t và tạo nên cú sốc khi trở thành cầu thủ 16 tuổi đầu tiên giành được danh hiệu vô địch u21 quốc gia .',\n",
              " 'một trận đấu bóng đá thông thường có hai hiệp , mỗi hiệp 45 phút với khoảng thời gian 15 phút nghỉ giữa hai hiệp .',\n",
              " 'quân đội hoa kỳ hay các lực lượng vũ trang hoa kỳ là tổng hợp các lực lượng quân sự thống nhất của hoa kỳ . các lực lượng này gồm có lục quân , hải quân , thuỷ quân lục chiến , không quân và tuần duyên .',\n",
              " 'ngọc lan ( 28 tháng 12 năm 1956 - 6 tháng 3 2001 ) là một ca sĩ hải ngoại nổi tiếng . không chỉ với giọng hát , cô còn được khán giả đặc biệt yêu mến vì khuôn mặt khả ái và tính cách nhút nhát , khiêm tốn của mình .',\n",
              " 'cô được coi là một trong những ca sĩ thuộc thế hệ thứ hai của nền nhạc nhẹ việt nam đạt được nhiều giải thưởng nhất .']"
            ]
          },
          "execution_count": 38,
          "metadata": {},
          "output_type": "execute_result"
        }
      ],
      "source": [
        "context[:5]"
      ]
    },
    {
      "cell_type": "code",
      "execution_count": 39,
      "metadata": {
        "id": "Tj6QDbrLb0ae"
      },
      "outputs": [],
      "source": [
        "tfidf_vectorizer = TfidfVectorizer()"
      ]
    },
    {
      "cell_type": "code",
      "execution_count": 40,
      "metadata": {
        "id": "pKFc3Qeac2Kx"
      },
      "outputs": [],
      "source": [
        "context_embedded = tfidf_vectorizer.fit_transform(context)"
      ]
    },
    {
      "cell_type": "code",
      "execution_count": 41,
      "metadata": {
        "colab": {
          "base_uri": "https://localhost:8080/"
        },
        "id": "dDFS6kgedCD0",
        "outputId": "5bdbc885-b2c4-4fb0-944d-b94c6e5c1b53"
      },
      "outputs": [
        {
          "data": {
            "text/plain": [
              "(500, 2913)"
            ]
          },
          "execution_count": 41,
          "metadata": {},
          "output_type": "execute_result"
        }
      ],
      "source": [
        "context_embedded.shape"
      ]
    },
    {
      "cell_type": "code",
      "execution_count": 42,
      "metadata": {
        "colab": {
          "base_uri": "https://localhost:8080/"
        },
        "id": "IQvOsukIgmnZ",
        "outputId": "8baaece0-1ba1-4115-8598-1e77acb0bb73"
      },
      "outputs": [
        {
          "data": {
            "text/plain": [
              "0.31126580760710637"
            ]
          },
          "execution_count": 42,
          "metadata": {},
          "output_type": "execute_result"
        }
      ],
      "source": [
        "context_embedded.toarray()[7][0]"
      ]
    },
    {
      "cell_type": "markdown",
      "metadata": {
        "id": "w4CXRwSLdfr0"
      },
      "source": [
        "## **Retrieval**"
      ]
    },
    {
      "cell_type": "markdown",
      "metadata": {
        "id": "8PugSopyhG8i"
      },
      "source": [
        "### **Cosine Similarity**"
      ]
    },
    {
      "cell_type": "code",
      "execution_count": 43,
      "metadata": {
        "colab": {
          "base_uri": "https://localhost:8080/"
        },
        "id": "MRy61SNNdnAN",
        "outputId": "6940e33c-3cf9-4166-cfd7-5e76d3b38246"
      },
      "outputs": [
        {
          "data": {
            "text/plain": [
              "id                                                 1570446247\n",
              "question    Quang Hải giành được chức vô địch U21 quốc gia...\n",
              "text        Năm 2013 , Nguyễn Quang Hải giành chức vô địch...\n",
              "Name: 0, dtype: object"
            ]
          },
          "execution_count": 43,
          "metadata": {},
          "output_type": "execute_result"
        }
      ],
      "source": [
        "vi_data_df.iloc[0]"
      ]
    },
    {
      "cell_type": "code",
      "execution_count": 44,
      "metadata": {
        "colab": {
          "base_uri": "https://localhost:8080/",
          "height": 35
        },
        "id": "KgmRjfe-djSv",
        "outputId": "4e8641d8-79cf-47af-8e1d-92e3e96e7835"
      },
      "outputs": [
        {
          "data": {
            "text/plain": [
              "'Quang Hải giành được chức vô địch U21 quốc gia năm bao nhiêu tuổi'"
            ]
          },
          "execution_count": 44,
          "metadata": {},
          "output_type": "execute_result"
        }
      ],
      "source": [
        "question = vi_data_df.iloc[0]['question']\n",
        "question"
      ]
    },
    {
      "cell_type": "code",
      "execution_count": 45,
      "metadata": {
        "colab": {
          "base_uri": "https://localhost:8080/"
        },
        "id": "8uZTzoind886",
        "outputId": "cfa67c4e-40f1-45d1-d788-831515c0d592"
      },
      "outputs": [
        {
          "data": {
            "text/plain": [
              "(1, 2913)"
            ]
          },
          "execution_count": 45,
          "metadata": {},
          "output_type": "execute_result"
        }
      ],
      "source": [
        "query_embedded = tfidf_vectorizer.transform([question.lower()])\n",
        "query_embedded.shape"
      ]
    },
    {
      "cell_type": "code",
      "execution_count": 46,
      "metadata": {
        "id": "AGxNpNUteLbP"
      },
      "outputs": [],
      "source": [
        "cosine_scores = cosine_similarity(context_embedded, query_embedded).reshape((-1,))"
      ]
    },
    {
      "cell_type": "code",
      "execution_count": 47,
      "metadata": {
        "colab": {
          "base_uri": "https://localhost:8080/"
        },
        "id": "Y_TWpSv_eUwp",
        "outputId": "74856248-e271-4789-b9cf-88f526ff181f"
      },
      "outputs": [
        {
          "data": {
            "text/plain": [
              "(500,)"
            ]
          },
          "execution_count": 47,
          "metadata": {},
          "output_type": "execute_result"
        }
      ],
      "source": [
        "cosine_scores.shape"
      ]
    },
    {
      "cell_type": "code",
      "execution_count": 48,
      "metadata": {
        "colab": {
          "base_uri": "https://localhost:8080/"
        },
        "id": "MsvPJCyZedF7",
        "outputId": "7f5a3e59-3dc8-443f-b4e7-d178e81ccd51"
      },
      "outputs": [
        {
          "name": "stdout",
          "output_type": "stream",
          "text": [
            "Score:  0.6279910475266973\n",
            "Năm 2013 , Nguyễn Quang Hải giành chức vô địch U21 quốc gia 2013 cùng với đội trẻ Hà Nội T&T và tạo nên cú sốc khi trở thành cầu thủ 16 tuổi đầu tiên giành được danh hiệu vô địch U21 quốc gia .\n",
            "=======\n",
            "Score:  0.21145795862251632\n",
            "Bao Công huý là Bao Chửng ( chữ Hán : 包拯 ; 11 tháng 4 năm 999 - 20 tháng 5 năm 1062 ) , tự Hy Nhân . Ngoài ra , ông còn được gọi là Bao Thanh thiên , Bao Đãi chế , Bao Hắc tử , Bao Học sĩ hay Bao Long Đồ .\n",
            "=======\n",
            "Score:  0.17714753149794468\n",
            "Arsenal đã giành được 13 chức vô địch quốc gia , 13 Cúp FA ( kỷ lục ) , 2 Cúp Liên đoàn Anh , 1 Cúp Liên đoàn Thế kỷ , 15 Siêu cúp Anh , 1 Cúp UEFA và 1 Cúp Inter-Cities Fairs . Arsenal là câu lạc bộ có số trận thắng ở cấp cao nhất nhiều thứ hai trong lịch sử bóng đá Anh , và cũng là đội bóng Anh duy nhất cho đến nay vô địch quốc gia với thành tích bất bại qua 38 vòng đấu , nhận biệt danh The Invincibles ( tiếng Việt : \" Đội bóng bất bại \" ) và giành Cúp vàng Ngoại hạng Anh .\n",
            "=======\n",
            "Score:  0.15971218395887335\n",
            "Tây Ban Nha cũng là đội vô địch World Cup đầu tiên giữ được sạch lưới tại vòng đấu loại trực tiếp .\n",
            "=======\n",
            "Score:  0.1578067474650028\n",
            "Tuyên Quang là một tỉnh thuộc vùng Đông Bắc Việt Nam . Có tỉnh lỵ là Thành phố Tuyên Quang .\n",
            "=======\n"
          ]
        }
      ],
      "source": [
        "# Get stop cosine similarity score\n",
        "top_d = 5\n",
        "for idx in cosine_scores.argsort()[-top_d:][::-1]:\n",
        "    print(\"Score: \", cosine_scores[idx])\n",
        "    print(vi_data_df.iloc[idx, 2])\n",
        "    print(\"=======\")"
      ]
    },
    {
      "cell_type": "code",
      "execution_count": 51,
      "metadata": {
        "id": "BWUJN_6dfSCn"
      },
      "outputs": [],
      "source": [
        "def tfidf_search(question, tfidf_vectorizer, top_d=5):\n",
        "    query_embedded = tfidf_vectorizer.transform([question.lower()])\n",
        "    cosine_scores = cosine_similarity(context_embedded, query_embedded).reshape((-1,))\n",
        "    results = []\n",
        "    for idx in cosine_scores.argsort()[-top_d:][::-1]:\n",
        "        doc = {\n",
        "            'id': idx,\n",
        "            'cosine_score':cosine_scores[idx]\n",
        "        }\n",
        "        results.append(doc)\n",
        "    return results"
      ]
    },
    {
      "cell_type": "code",
      "execution_count": 52,
      "metadata": {
        "colab": {
          "base_uri": "https://localhost:8080/"
        },
        "id": "zxncDCGifvLx",
        "outputId": "a62c6499-a540-4ca3-fd57-6cabf6c861f9"
      },
      "outputs": [
        {
          "name": "stdout",
          "output_type": "stream",
          "text": [
            "Question:  Quang Hải giành được chức vô địch U21 quốc gia năm bao nhiêu tuổi\n",
            "Id:  0\n",
            "Score:  0.6279910475266973\n",
            "Năm 2013 , Nguyễn Quang Hải giành chức vô địch U21 quốc gia 2013 cùng với đội trẻ Hà Nội T&T và tạo nên cú sốc khi trở thành cầu thủ 16 tuổi đầu tiên giành được danh hiệu vô địch U21 quốc gia .\n",
            "=======\n",
            "Id:  97\n",
            "Score:  0.21145795862251632\n",
            "Bao Công huý là Bao Chửng ( chữ Hán : 包拯 ; 11 tháng 4 năm 999 - 20 tháng 5 năm 1062 ) , tự Hy Nhân . Ngoài ra , ông còn được gọi là Bao Thanh thiên , Bao Đãi chế , Bao Hắc tử , Bao Học sĩ hay Bao Long Đồ .\n",
            "=======\n",
            "Id:  136\n",
            "Score:  0.17714753149794468\n",
            "Arsenal đã giành được 13 chức vô địch quốc gia , 13 Cúp FA ( kỷ lục ) , 2 Cúp Liên đoàn Anh , 1 Cúp Liên đoàn Thế kỷ , 15 Siêu cúp Anh , 1 Cúp UEFA và 1 Cúp Inter-Cities Fairs . Arsenal là câu lạc bộ có số trận thắng ở cấp cao nhất nhiều thứ hai trong lịch sử bóng đá Anh , và cũng là đội bóng Anh duy nhất cho đến nay vô địch quốc gia với thành tích bất bại qua 38 vòng đấu , nhận biệt danh The Invincibles ( tiếng Việt : \" Đội bóng bất bại \" ) và giành Cúp vàng Ngoại hạng Anh .\n",
            "=======\n",
            "Id:  384\n",
            "Score:  0.15971218395887335\n",
            "Tây Ban Nha cũng là đội vô địch World Cup đầu tiên giữ được sạch lưới tại vòng đấu loại trực tiếp .\n",
            "=======\n",
            "Id:  118\n",
            "Score:  0.1578067474650028\n",
            "Tuyên Quang là một tỉnh thuộc vùng Đông Bắc Việt Nam . Có tỉnh lỵ là Thành phố Tuyên Quang .\n",
            "=======\n"
          ]
        }
      ],
      "source": [
        "question = vi_data_df.iloc[0]['question']\n",
        "print(\"Question: \", question)\n",
        "results = tfidf_search(question, tfidf_vectorizer)\n",
        "for result in results:\n",
        "    print(\"Id: \", result['id'])\n",
        "    print(\"Score: \", result['cosine_score'])\n",
        "    print(vi_data_df.iloc[result['id'], 2])\n",
        "    print(\"=======\")"
      ]
    },
    {
      "cell_type": "code",
      "execution_count": 53,
      "metadata": {},
      "outputs": [
        {
          "data": {
            "text/plain": [
              "0.6279910475266973"
            ]
          },
          "execution_count": 53,
          "metadata": {},
          "output_type": "execute_result"
        }
      ],
      "source": [
        "question = vi_data_df.iloc[0]['question']\n",
        "results = tfidf_search(question, tfidf_vectorizer, top_d=5)\n",
        "results[0]['cosine_score']"
      ]
    },
    {
      "cell_type": "code",
      "execution_count": null,
      "metadata": {
        "colab": {
          "base_uri": "https://localhost:8080/"
        },
        "id": "1eTVHiEog5uO",
        "outputId": "d15b26e7-d4b4-4a25-a1e3-28681355d952"
      },
      "outputs": [
        {
          "name": "stdout",
          "output_type": "stream",
          "text": [
            "Question:  Đế quốc Mông Cổ tồn tại khoảng thời gian nào\n",
            "Id:  7\n",
            "Score:  0.33596167176983205\n",
            "Đế quốc Mông Cổ (tiếng Mông Cổ: Монголын эзэнт гүрэн, chuyển tự Mongol-yn Ezent Güren IPA: [mɔŋɡ(ɔ)ɮˈiːŋ ɛt͡sˈɛnt ˈɡurəŋ] (nghe)) là đế quốc du mục lớn nhất trong lịch sử, từng tồn tại trong các thế kỷ 13 và 14.[2] Khởi đầu trên vùng thảo nguyên Trung Á, đế quốc cuối cùng đã trải dài từ Đông Âu đến biển Nhật Bản, bao gồm nhiều phần rộng lớn của Siberi ở phía bắc và mở rộng về phía nam đến Đông Nam Á, tiểu lục địa Ấn Độ, cao nguyên Iran, và Trung Đông. Ở thời điểm đỉnh cao, đế quốc Mông Cổ trải dài 9.700 km (6.000 mi), diện tích lãnh thổ lên tới 24.000.000 km2 (9.300.000 sq mi),[3][4][5][6] và thống trị 100 triệu dân.\n",
            "=======\n",
            "Id:  74\n",
            "Score:  0.27474674050287234\n",
            "Đế quốc Mông Cổ từng tồn tại trong các thế kỷ 13 và 14 , là đế quốc có lãnh thổ liền nhau lớn nhất trong lịch sử nhân loại . Khởi đầu trên vùng thảo nguyên Trung Á , đế quốc cuối cùng đã trải dài từ Đông Âu đến biển Nhật Bản , bao gồm nhiều phần rộng lớn của Siberi ở phía bắc và mở rộng về phía nam đến Đông Nam Á , tiểu lục địa Ấn Độ , cao nguyên Iran , và Trung Đông .\n",
            "=======\n",
            "Id:  437\n",
            "Score:  0.273876639388304\n",
            "Dù là con số nào , nhà Chu vẫn là triều đại tồn tại lâu nhất trong lịch sử Trung Quốc .\n",
            "=======\n",
            "Id:  351\n",
            "Score:  0.1703220452171351\n",
            "Đế quốc Nhật Bản hay Đại Nhật Bản Đế quốc là một quốc gia dân tộc trong lịch sử Nhật Bản tồn tại từ cuộc cách mạng Minh Trị năm 1868 cho đến khi Hiến pháp Nhật Bản được ban hành vào năm 1947\n",
            "=======\n",
            "Id:  293\n",
            "Score:  0.1703220452171351\n",
            "Đế quốc Nhật Bản hay Đại Nhật Bản Đế quốc là một quốc gia dân tộc trong lịch sử Nhật Bản tồn tại từ cuộc cách mạng Minh Trị năm 1868 cho đến khi Hiến pháp Nhật Bản được ban hành vào năm 1947\n",
            "=======\n"
          ]
        }
      ],
      "source": [
        "question = vi_data_df.iloc[7]['question']\n",
        "print(\"Question: \", question)\n",
        "results = tfidf_search(question, tfidf_vectorizer)\n",
        "for result in results:\n",
        "    print(\"Id: \", result['id'])\n",
        "    print(\"Score: \", result['cosine_score'])\n",
        "    print(vi_data_df.iloc[result['id'], 2])\n",
        "    print(\"=======\")"
      ]
    },
    {
      "cell_type": "markdown",
      "metadata": {
        "id": "bcxbx5NLhKtG"
      },
      "source": [
        "### **Correlation**"
      ]
    },
    {
      "cell_type": "code",
      "execution_count": 54,
      "metadata": {
        "colab": {
          "base_uri": "https://localhost:8080/",
          "height": 35
        },
        "id": "s7wZv2yyhU-v",
        "outputId": "038c8881-ec54-49e9-c003-a46cd1906209"
      },
      "outputs": [
        {
          "data": {
            "text/plain": [
              "'Quang Hải giành được chức vô địch U21 quốc gia năm bao nhiêu tuổi'"
            ]
          },
          "execution_count": 54,
          "metadata": {},
          "output_type": "execute_result"
        }
      ],
      "source": [
        "question = vi_data_df.iloc[0]['question']\n",
        "question"
      ]
    },
    {
      "cell_type": "code",
      "execution_count": 55,
      "metadata": {
        "colab": {
          "base_uri": "https://localhost:8080/"
        },
        "id": "BGPW-TkKhW15",
        "outputId": "3f656e80-a910-41bf-e6a5-8167c42f41c6"
      },
      "outputs": [
        {
          "data": {
            "text/plain": [
              "(1, 2913)"
            ]
          },
          "execution_count": 55,
          "metadata": {},
          "output_type": "execute_result"
        }
      ],
      "source": [
        "query_embedded = tfidf_vectorizer.transform([question.lower()])\n",
        "query_embedded.shape"
      ]
    },
    {
      "cell_type": "code",
      "execution_count": 56,
      "metadata": {
        "id": "CvyEGnOWhZlv"
      },
      "outputs": [],
      "source": [
        "corr_scores = np.corrcoef(\n",
        "    query_embedded.toarray()[0],\n",
        "    context_embedded.toarray()\n",
        ")"
      ]
    },
    {
      "cell_type": "code",
      "execution_count": 57,
      "metadata": {
        "colab": {
          "base_uri": "https://localhost:8080/"
        },
        "id": "ogZVyT1dka3X",
        "outputId": "cf230080-6c97-4914-d96a-7b1e49747318"
      },
      "outputs": [
        {
          "data": {
            "text/plain": [
              "(501, 501)"
            ]
          },
          "execution_count": 57,
          "metadata": {},
          "output_type": "execute_result"
        }
      ],
      "source": [
        "corr_scores.shape"
      ]
    },
    {
      "cell_type": "code",
      "execution_count": 58,
      "metadata": {
        "colab": {
          "base_uri": "https://localhost:8080/"
        },
        "id": "-6D2kKfqlSKf",
        "outputId": "a942af00-c4ec-4ad1-acc6-c2acbed91217"
      },
      "outputs": [
        {
          "data": {
            "text/plain": [
              "array([ 0.62595998, -0.00477247,  0.02170301,  0.04041869,  0.019418  ,\n",
              "        0.01144099,  0.04205915,  0.02519109, -0.00678129])"
            ]
          },
          "execution_count": 58,
          "metadata": {},
          "output_type": "execute_result"
        }
      ],
      "source": [
        "corr_scores[0][1:10]"
      ]
    },
    {
      "cell_type": "code",
      "execution_count": 59,
      "metadata": {
        "colab": {
          "base_uri": "https://localhost:8080/"
        },
        "id": "WxAyWFGCliRa",
        "outputId": "41e1e2ba-cca2-4197-b5d8-15d96851e112"
      },
      "outputs": [
        {
          "data": {
            "text/plain": [
              "array([ 68, 147, 161, 348, 374, 388, 278, 386, 141,  29, 495, 489, 130,\n",
              "        63,  57,  45, 105, 298, 157, 473, 167, 407, 297, 215, 493, 462,\n",
              "       411,  12, 248,  35, 255, 249, 430,  49,  20, 452,   8, 390, 182,\n",
              "       254, 457, 221,  47, 485, 362, 207, 304, 442, 145,  28,  25, 318,\n",
              "       322, 270,  52,  76, 196, 232, 389, 129, 436, 112, 265, 412,  32,\n",
              "       124, 385, 360, 377, 332, 326, 438, 426, 135, 309, 316, 181, 359,\n",
              "       464,  54, 160,   1, 117, 155, 276, 450, 333, 353, 443, 476, 198,\n",
              "       328, 475, 237,  69, 274, 224, 444, 177, 213, 269, 284, 137, 133,\n",
              "       150, 175, 173, 449, 354,  94, 172, 113, 497, 490, 190,  21,  62,\n",
              "       294, 343, 357, 122, 192, 387,  38, 319, 132, 305, 423, 195, 378,\n",
              "       199, 310, 415, 171, 236, 275, 459, 469, 461, 327, 401, 146, 398,\n",
              "       271, 335,  43, 262, 342,  89, 483, 138, 153,  31, 466, 104, 235,\n",
              "       280, 402, 455, 291, 323, 219,  98,  77, 499, 404,  18,  17, 373,\n",
              "        75, 218, 264, 345,  22,  87, 456, 243, 370, 317, 453,  92, 140,\n",
              "       369,  99, 299, 433, 126,  71, 222, 123, 252, 185, 421, 382, 435,\n",
              "        86, 247, 268, 311, 159, 356, 419,  41, 174, 244, 463, 329, 431,\n",
              "       334, 246, 128, 229, 458, 477, 313, 188, 148, 217,  56,  19, 179,\n",
              "       429, 257, 290,  91,  40,  39, 154, 191, 230, 143, 434, 282, 186,\n",
              "       200, 176, 107, 127, 125,  58, 164,  48, 496, 286, 350,  66, 187,\n",
              "       231, 227, 180, 259,  83, 178, 170,  96, 308, 425, 346, 487, 472,\n",
              "       202, 437, 320,   5, 486, 344, 263, 371, 468, 292, 239,  72,  53,\n",
              "       409, 211, 339, 406, 214, 240, 210, 448, 471, 367, 325, 432, 149,\n",
              "       220, 212, 169,  44, 394,  36,  73, 295, 250,  14, 103,  15, 379,\n",
              "       399, 380, 162, 111, 206, 285, 467, 193, 158, 381,  84, 114, 428,\n",
              "        80, 144,  61,  46, 416, 358, 420, 253,  23, 478, 163, 152, 238,\n",
              "         4, 234, 439, 474, 417, 397, 183, 100, 427,  85,  33,  34, 331,\n",
              "         2, 208, 396,  82, 281, 480, 300, 498, 494, 460, 337,  59, 445,\n",
              "       108, 228, 447, 106, 204, 277, 395, 273, 134,   7, 446, 302, 233,\n",
              "       119, 372, 336, 168, 272, 324,  37, 201,  26, 109, 482,  79, 189,\n",
              "       355, 287, 361, 392, 166, 312, 340, 256, 296, 465, 197, 451, 321,\n",
              "       347, 363, 410,  60, 352, 289,  93, 216, 418, 400, 223, 306,  42,\n",
              "       283, 203, 414,  70,  65,   9, 403, 194, 413, 156, 226, 101, 260,\n",
              "       242, 365, 266,  10,  16, 209, 301, 349, 258, 151,   3, 314, 279,\n",
              "        74, 376,   6, 454, 131, 288, 366,  78, 165, 315, 341, 241, 115,\n",
              "       142, 303, 330,  50,  81, 383, 110,  51,  11,  24, 491, 484,  95,\n",
              "       470,  64, 492,  27,  13, 351, 293,  67,  90, 307, 245, 116, 479,\n",
              "       488, 422, 205, 481, 408, 267, 225,  30, 391, 364, 375, 441, 368,\n",
              "       139, 261,  55, 393, 121, 184, 120, 338, 251, 405, 424, 102, 440,\n",
              "        88, 118, 384, 136,  97,   0], dtype=int64)"
            ]
          },
          "execution_count": 59,
          "metadata": {},
          "output_type": "execute_result"
        }
      ],
      "source": [
        "corr_scores[0][1:].argsort()"
      ]
    },
    {
      "cell_type": "code",
      "execution_count": 60,
      "metadata": {
        "colab": {
          "base_uri": "https://localhost:8080/"
        },
        "id": "xNGENo-Jlbwq",
        "outputId": "40d2475f-5496-40b2-a6d2-133eaefdbae3"
      },
      "outputs": [
        {
          "name": "stdout",
          "output_type": "stream",
          "text": [
            "Score:  1.0\n",
            "Năm 2013 , Nguyễn Quang Hải giành chức vô địch U21 quốc gia 2013 cùng với đội trẻ Hà Nội T&T và tạo nên cú sốc khi trở thành cầu thủ 16 tuổi đầu tiên giành được danh hiệu vô địch U21 quốc gia .\n",
            "=======\n",
            "Score:  0.010218977799153046\n",
            "Bao Công huý là Bao Chửng ( chữ Hán : 包拯 ; 11 tháng 4 năm 999 - 20 tháng 5 năm 1062 ) , tự Hy Nhân . Ngoài ra , ông còn được gọi là Bao Thanh thiên , Bao Đãi chế , Bao Hắc tử , Bao Học sĩ hay Bao Long Đồ .\n",
            "=======\n",
            "Score:  -0.005223983785487515\n",
            "Arsenal đã giành được 13 chức vô địch quốc gia , 13 Cúp FA ( kỷ lục ) , 2 Cúp Liên đoàn Anh , 1 Cúp Liên đoàn Thế kỷ , 15 Siêu cúp Anh , 1 Cúp UEFA và 1 Cúp Inter-Cities Fairs . Arsenal là câu lạc bộ có số trận thắng ở cấp cao nhất nhiều thứ hai trong lịch sử bóng đá Anh , và cũng là đội bóng Anh duy nhất cho đến nay vô địch quốc gia với thành tích bất bại qua 38 vòng đấu , nhận biệt danh The Invincibles ( tiếng Việt : \" Đội bóng bất bại \" ) và giành Cúp vàng Ngoại hạng Anh .\n",
            "=======\n",
            "Score:  0.0471963086769137\n",
            "Tây Ban Nha cũng là đội vô địch World Cup đầu tiên giữ được sạch lưới tại vòng đấu loại trực tiếp .\n",
            "=======\n",
            "Score:  -0.004762359075143511\n",
            "Tuyên Quang là một tỉnh thuộc vùng Đông Bắc Việt Nam . Có tỉnh lỵ là Thành phố Tuyên Quang .\n",
            "=======\n"
          ]
        }
      ],
      "source": [
        "# Get stop cosine similarity score\n",
        "top_d = 5\n",
        "for idx in corr_scores[0][1:].argsort()[-top_d:][::-1]:\n",
        "    print(\"Score: \", corr_scores[0][idx])\n",
        "    print(vi_data_df.iloc[idx, 2])\n",
        "    print(\"=======\")"
      ]
    },
    {
      "cell_type": "code",
      "execution_count": 61,
      "metadata": {
        "id": "fGDPGB89l8p-"
      },
      "outputs": [],
      "source": [
        "def corr_search(question, tfidf_vectorizer, top_d=5):\n",
        "    query_embedded = tfidf_vectorizer.transform([question.lower()])\n",
        "    corr_scores = np.corrcoef(\n",
        "        query_embedded.toarray()[0],\n",
        "        context_embedded.toarray()\n",
        "    )\n",
        "    corr_scores = corr_scores[0][1:]\n",
        "    results = []\n",
        "    for idx in corr_scores.argsort()[-top_d:][::-1]:\n",
        "        doc = {\n",
        "            'id': idx,\n",
        "            'corr_score':corr_scores[idx]\n",
        "        }\n",
        "        results.append(doc)\n",
        "    return results"
      ]
    },
    {
      "cell_type": "code",
      "execution_count": 62,
      "metadata": {
        "colab": {
          "base_uri": "https://localhost:8080/"
        },
        "id": "B8HRAshymS-m",
        "outputId": "09965d58-7e2b-4dc4-9470-5e4d682ec968"
      },
      "outputs": [
        {
          "name": "stdout",
          "output_type": "stream",
          "text": [
            "Question:  Quang Hải giành được chức vô địch U21 quốc gia năm bao nhiêu tuổi\n",
            "Id:  0\n",
            "Score:  0.625959975256877\n",
            "Năm 2013 , Nguyễn Quang Hải giành chức vô địch U21 quốc gia 2013 cùng với đội trẻ Hà Nội T&T và tạo nên cú sốc khi trở thành cầu thủ 16 tuổi đầu tiên giành được danh hiệu vô địch U21 quốc gia .\n",
            "=======\n",
            "Id:  97\n",
            "Score:  0.20734246471973253\n",
            "Bao Công huý là Bao Chửng ( chữ Hán : 包拯 ; 11 tháng 4 năm 999 - 20 tháng 5 năm 1062 ) , tự Hy Nhân . Ngoài ra , ông còn được gọi là Bao Thanh thiên , Bao Đãi chế , Bao Hắc tử , Bao Học sĩ hay Bao Long Đồ .\n",
            "=======\n",
            "Id:  136\n",
            "Score:  0.17124615520165057\n",
            "Arsenal đã giành được 13 chức vô địch quốc gia , 13 Cúp FA ( kỷ lục ) , 2 Cúp Liên đoàn Anh , 1 Cúp Liên đoàn Thế kỷ , 15 Siêu cúp Anh , 1 Cúp UEFA và 1 Cúp Inter-Cities Fairs . Arsenal là câu lạc bộ có số trận thắng ở cấp cao nhất nhiều thứ hai trong lịch sử bóng đá Anh , và cũng là đội bóng Anh duy nhất cho đến nay vô địch quốc gia với thành tích bất bại qua 38 vòng đấu , nhận biệt danh The Invincibles ( tiếng Việt : \" Đội bóng bất bại \" ) và giành Cúp vàng Ngoại hạng Anh .\n",
            "=======\n",
            "Id:  384\n",
            "Score:  0.15520346054699768\n",
            "Tây Ban Nha cũng là đội vô địch World Cup đầu tiên giữ được sạch lưới tại vòng đấu loại trực tiếp .\n",
            "=======\n",
            "Id:  118\n",
            "Score:  0.15444531996663344\n",
            "Tuyên Quang là một tỉnh thuộc vùng Đông Bắc Việt Nam . Có tỉnh lỵ là Thành phố Tuyên Quang .\n",
            "=======\n"
          ]
        }
      ],
      "source": [
        "question = vi_data_df.iloc[0]['question']\n",
        "print(\"Question: \", question)\n",
        "results = corr_search(question, tfidf_vectorizer)\n",
        "for result in results:\n",
        "    print(\"Id: \", result['id'])\n",
        "    print(\"Score: \", result['corr_score'])\n",
        "    print(vi_data_df.iloc[result['id'], 2])\n",
        "    print(\"=======\")"
      ]
    },
    {
      "cell_type": "code",
      "execution_count": 64,
      "metadata": {},
      "outputs": [
        {
          "data": {
            "text/plain": [
              "0.20734246471973253"
            ]
          },
          "execution_count": 64,
          "metadata": {},
          "output_type": "execute_result"
        }
      ],
      "source": [
        "question = vi_data_df.iloc[0]['question']\n",
        "results = corr_search(question, tfidf_vectorizer, top_d=5)\n",
        "results[1]['corr_score']"
      ]
    },
    {
      "cell_type": "code",
      "execution_count": 65,
      "metadata": {
        "colab": {
          "base_uri": "https://localhost:8080/"
        },
        "id": "uxmrs4U9mZwH",
        "outputId": "5331ca86-78a7-40a1-da2a-20c1d09d5339"
      },
      "outputs": [
        {
          "name": "stdout",
          "output_type": "stream",
          "text": [
            "Question:  Đế quốc Mông Cổ tồn tại khoảng thời gian nào\n",
            "Id:  7\n",
            "Score:  0.3317381973605371\n",
            "Đế quốc Mông Cổ (tiếng Mông Cổ: Монголын эзэнт гүрэн, chuyển tự Mongol-yn Ezent Güren IPA: [mɔŋɡ(ɔ)ɮˈiːŋ ɛt͡sˈɛnt ˈɡurəŋ] (nghe)) là đế quốc du mục lớn nhất trong lịch sử, từng tồn tại trong các thế kỷ 13 và 14.[2] Khởi đầu trên vùng thảo nguyên Trung Á, đế quốc cuối cùng đã trải dài từ Đông Âu đến biển Nhật Bản, bao gồm nhiều phần rộng lớn của Siberi ở phía bắc và mở rộng về phía nam đến Đông Nam Á, tiểu lục địa Ấn Độ, cao nguyên Iran, và Trung Đông. Ở thời điểm đỉnh cao, đế quốc Mông Cổ trải dài 9.700 km (6.000 mi), diện tích lãnh thổ lên tới 24.000.000 km2 (9.300.000 sq mi),[3][4][5][6] và thống trị 100 triệu dân.\n",
            "=======\n",
            "Id:  437\n",
            "Score:  0.2707711717980512\n",
            "Dù là con số nào , nhà Chu vẫn là triều đại tồn tại lâu nhất trong lịch sử Trung Quốc .\n",
            "=======\n",
            "Id:  74\n",
            "Score:  0.2699863245722587\n",
            "Đế quốc Mông Cổ từng tồn tại trong các thế kỷ 13 và 14 , là đế quốc có lãnh thổ liền nhau lớn nhất trong lịch sử nhân loại . Khởi đầu trên vùng thảo nguyên Trung Á , đế quốc cuối cùng đã trải dài từ Đông Âu đến biển Nhật Bản , bao gồm nhiều phần rộng lớn của Siberi ở phía bắc và mở rộng về phía nam đến Đông Nam Á , tiểu lục địa Ấn Độ , cao nguyên Iran , và Trung Đông .\n",
            "=======\n",
            "Id:  351\n",
            "Score:  0.1663316322442519\n",
            "Đế quốc Nhật Bản hay Đại Nhật Bản Đế quốc là một quốc gia dân tộc trong lịch sử Nhật Bản tồn tại từ cuộc cách mạng Minh Trị năm 1868 cho đến khi Hiến pháp Nhật Bản được ban hành vào năm 1947\n",
            "=======\n",
            "Id:  293\n",
            "Score:  0.1663316322442519\n",
            "Đế quốc Nhật Bản hay Đại Nhật Bản Đế quốc là một quốc gia dân tộc trong lịch sử Nhật Bản tồn tại từ cuộc cách mạng Minh Trị năm 1868 cho đến khi Hiến pháp Nhật Bản được ban hành vào năm 1947\n",
            "=======\n"
          ]
        }
      ],
      "source": [
        "question = vi_data_df.iloc[7]['question']\n",
        "print(\"Question: \", question)\n",
        "results = corr_search(question, tfidf_vectorizer)\n",
        "for result in results:\n",
        "    print(\"Id: \", result['id'])\n",
        "    print(\"Score: \", result['corr_score'])\n",
        "    print(vi_data_df.iloc[result['id'], 2])\n",
        "    print(\"=======\")"
      ]
    },
    {
      "cell_type": "markdown",
      "metadata": {},
      "source": [
        "## To-do"
      ]
    },
    {
      "cell_type": "code",
      "execution_count": 88,
      "metadata": {},
      "outputs": [],
      "source": [
        "docs = [\n",
        "    \"Học máy là một nhánh của trí tuệ nhân tạo\",\n",
        "    \"Trí tuệ nhân tạo bao gồm học máy và mạng nơ ron\",\n",
        "    \"Mạng nơ ron là một mô hình quan trọng trong học sâu\",\n",
        "    \"Học sâu là một lĩnh vực của trí tuệ nhân tạo và học máy\"\n",
        "]"
      ]
    },
    {
      "cell_type": "code",
      "execution_count": 97,
      "metadata": {},
      "outputs": [
        {
          "data": {
            "text/plain": [
              "['bao',\n",
              " 'của',\n",
              " 'gồm',\n",
              " 'hình',\n",
              " 'học',\n",
              " 'là',\n",
              " 'lĩnh',\n",
              " 'máy',\n",
              " 'mô',\n",
              " 'mạng',\n",
              " 'một',\n",
              " 'nhánh',\n",
              " 'nhân',\n",
              " 'nơ',\n",
              " 'quan',\n",
              " 'ron',\n",
              " 'sâu',\n",
              " 'trong',\n",
              " 'trí',\n",
              " 'trọng',\n",
              " 'tuệ',\n",
              " 'tạo',\n",
              " 'và',\n",
              " 'vực']"
            ]
          },
          "execution_count": 97,
          "metadata": {},
          "output_type": "execute_result"
        }
      ],
      "source": [
        "def build_vocabulary(docs):\n",
        "    vocab_set = set()\n",
        "    for doc in docs:\n",
        "        words = doc.lower().split()\n",
        "        vocab_set.update(words)\n",
        "    vocab = sorted(list(vocab_set))\n",
        "    return vocab\n",
        "\n",
        "check = build_vocabulary(docs)\n",
        "check"
      ]
    },
    {
      "cell_type": "code",
      "execution_count": 90,
      "metadata": {},
      "outputs": [
        {
          "name": "stdout",
          "output_type": "stream",
          "text": [
            "[0.1 0.  0.  0.1 0.1 0.  0.  0.  0.1 0.1 0.  0.  0.1 0.1 0.  0.  0.  0.\n",
            " 0.  0.1 0.1 0.  0.1 0. ]\n"
          ]
        }
      ],
      "source": [
        "def compute_tf(doc, vocab):\n",
        "    words = doc.lower().split()\n",
        "    tf = np.zeros(len(vocab))\n",
        "    for i, term in enumerate(vocab):\n",
        "        tf[i] = words.count(term) / len(words)\n",
        "    return tf\n",
        "\n",
        "doc = \"Học máy là một nhánh của trí tuệ nhân tạo\"\n",
        "vocab = build_vocabulary(docs)\n",
        "print(compute_tf(doc, vocab))"
      ]
    },
    {
      "cell_type": "code",
      "execution_count": 91,
      "metadata": {},
      "outputs": [
        {
          "name": "stdout",
          "output_type": "stream",
          "text": [
            "[1.22314355 1.51082562 1.51082562 1.22314355 1.91629073 1.91629073\n",
            " 1.51082562 1.91629073 1.22314355 1.         1.51082562 1.91629073\n",
            " 1.22314355 1.22314355 1.91629073 1.91629073 1.91629073 1.91629073\n",
            " 1.91629073 1.51082562 1.22314355 1.91629073 1.22314355 1.51082562]\n"
          ]
        }
      ],
      "source": [
        "def compute_idf(docs, vocab):\n",
        "    N = len(docs)\n",
        "    idf = np.zeros(len(vocab))\n",
        "    for i, term in enumerate(vocab):\n",
        "        df = sum([1 for doc in docs if term in doc.lower().split()])\n",
        "        idf[i] = np.log((N + 1) / (df + 1)) + 1\n",
        "\n",
        "    return idf\n",
        "\n",
        "docs = [\n",
        "    \"Học máy là một nhánh của trí tuệ nhân tạo\",\n",
        "    \"Trí tuệ nhân tạo bao gồm học máy và mạng nơ ron\",\n",
        "    \"Mạng nơ ron là một mô hình quan trọng trong học sâu\",\n",
        "    \"Học sâu là một lĩnh vực của trí tuệ nhân tạo và học máy\"\n",
        "]\n",
        "vocab = build_vocabulary(docs)\n",
        "print(compute_idf(docs, vocab))"
      ]
    },
    {
      "cell_type": "code",
      "execution_count": 98,
      "metadata": {},
      "outputs": [
        {
          "name": "stdout",
          "output_type": "stream",
          "text": [
            "[0.         0.15108256 0.         0.         0.1        0.12231436\n",
            " 0.         0.12231436 0.         0.         0.12231436 0.19162907\n",
            " 0.12231436 0.         0.         0.         0.         0.\n",
            " 0.12231436 0.         0.12231436 0.12231436 0.         0.        ]\n"
          ]
        }
      ],
      "source": [
        "def compute_tfidf(doc, docs):\n",
        "    vocab = build_vocabulary(docs)\n",
        "    tf = compute_tf(doc, vocab)\n",
        "    idf = compute_idf(docs, vocab)\n",
        "\n",
        "    tf_idf = tf * idf\n",
        "    return tf_idf\n",
        "\n",
        "print(compute_tfidf(doc, docs))"
      ]
    },
    {
      "cell_type": "code",
      "execution_count": 99,
      "metadata": {},
      "outputs": [
        {
          "name": "stdout",
          "output_type": "stream",
          "text": [
            "0.9746318461970762\n"
          ]
        }
      ],
      "source": [
        "def cosine_similarity(vec1, vec2):\n",
        "    dot_product = np.dot(vec1, vec2)\n",
        "    norm1 = np.linalg.norm(vec1)\n",
        "    norm2 = np.linalg.norm(vec2)\n",
        "    return dot_product / (norm1 * norm2)\n",
        "\n",
        "vec1 = np.array([1, 2, 3])\n",
        "vec2 = np.array([4, 5, 6])\n",
        "print(cosine_similarity(vec1, vec2))"
      ]
    },
    {
      "cell_type": "code",
      "execution_count": 100,
      "metadata": {},
      "outputs": [],
      "source": [
        "def compute_tfidf_matrix(docs):\n",
        "    vocab = build_vocabulary(docs)\n",
        "    tfidf_matrix = np.zeros((len(docs), len(vocab)))\n",
        "\n",
        "    for i, doc in enumerate(docs):\n",
        "        tfidf_matrix[i] = compute_tfidf(doc, docs)\n",
        "\n",
        "    return tfidf_matrix"
      ]
    },
    {
      "cell_type": "code",
      "execution_count": 101,
      "metadata": {},
      "outputs": [],
      "source": [
        "def check_plagiarism_all(docs):\n",
        "    if_idf_matrix = compute_tfidf_matrix(docs)\n",
        "    num_docs = len(docs)\n",
        "\n",
        "    similarity_matrix = np.zeros((num_docs, num_docs))\n",
        "\n",
        "    for i in range(num_docs):\n",
        "        for j in range(num_docs):\n",
        "            similarity_matrix[i, j] = cosine_similarity(if_idf_matrix[i], if_idf_matrix[j])\n",
        "\n",
        "    return similarity_matrix"
      ]
    },
    {
      "cell_type": "code",
      "execution_count": 102,
      "metadata": {},
      "outputs": [
        {
          "data": {
            "image/png": "[encoded data removed]",
            "text/plain": [
              "<Figure size 800x600 with 2 Axes>"
            ]
          },
          "metadata": {},
          "output_type": "display_data"
        }
      ],
      "source": [
        "import seaborn as sns\n",
        "import matplotlib.pyplot as plt\n",
        "\n",
        "\n",
        "similarity_matrix = check_plagiarism_all(docs)\n",
        "\n",
        "plt.figure(figsize=(8, 6))\n",
        "sns.heatmap(similarity_matrix , annot =True , fmt='.3f', cmap ='YlOrRd')\n",
        "plt.title('Ma trận độ tương đồng Cosine')\n",
        "plt.show()"
      ]
    }
  ],
  "metadata": {
    "colab": {
      "provenance": [],
      "toc_visible": true
    },
    "kernelspec": {
      "display_name": "Python 3",
      "name": "python3"
    },
    "language_info": {
      "codemirror_mode": {
        "name": "ipython",
        "version": 3
      },
      "file_extension": ".py",
      "mimetype": "text/x-python",
      "name": "python",
      "nbconvert_exporter": "python",
      "pygments_lexer": "ipython3",
      "version": "3.10.16"
    }
  },
  "nbformat": 4,
  "nbformat_minor": 0
}
