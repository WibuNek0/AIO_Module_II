{
  "cells": [
    {
      "cell_type": "markdown",
      "metadata": {
        "id": "IasI3hhLEo6v"
      },
      "source": [
        "# Câu hỏi 1"
      ]
    },
    {
      "cell_type": "code",
      "execution_count": 1,
      "metadata": {
        "id": "Pkz96_ZOEo6v"
      },
      "outputs": [
        {
          "name": "stdout",
          "output_type": "stream",
          "text": [
            "23.28\n"
          ]
        }
      ],
      "source": [
        "import numpy as np\n",
        "\n",
        "def compute_vector_length(vector):\n",
        "    return np.sqrt(np.sum(vector**2))\n",
        "\n",
        "vector = np.array([-2, 4, 9, 21])\n",
        "result = compute_vector_length(vector)\n",
        "print(round(result, 2))"
      ]
    },
    {
      "cell_type": "markdown",
      "metadata": {
        "id": "ZsA4RbP_Eo6w"
      },
      "source": [
        "# Câu hỏi 2"
      ]
    },
    {
      "cell_type": "markdown",
      "metadata": {},
      "source": [
        "Công thức: $\\vec{v1} \\cdot \\vec{v2} = \\sum_{i=0}^{n-1} v1[i] \\times v2[i]$"
      ]
    },
    {
      "cell_type": "code",
      "execution_count": 2,
      "metadata": {
        "id": "Mg4P2bLCEo6w"
      },
      "outputs": [
        {
          "name": "stdout",
          "output_type": "stream",
          "text": [
            "4\n"
          ]
        }
      ],
      "source": [
        "import numpy as np\n",
        "\n",
        "def compute_dot_product(vector1, vector2):\n",
        "    return np.dot(vector1, vector2)\n",
        "\n",
        "v1 = np.array([0, 1, -1, 2])\n",
        "v2 = np.array([2, 5, 1, 0])\n",
        "result = compute_dot_product(v1, v2)\n",
        "print(round(result, 2))"
      ]
    },
    {
      "cell_type": "markdown",
      "metadata": {
        "id": "n336RDH-Eo6x"
      },
      "source": [
        "# Câu hỏi 3"
      ]
    },
    {
      "cell_type": "markdown",
      "metadata": {},
      "source": [
        "Công thức: $\\text{result}[i] = \\sum_{j=0}^{n-1} \\text{matrix}[i][j] \\times \\text{vector}[j]$"
      ]
    },
    {
      "cell_type": "code",
      "execution_count": 3,
      "metadata": {
        "id": "niosURCcEo6x"
      },
      "outputs": [
        {
          "name": "stdout",
          "output_type": "stream",
          "text": [
            "[3 1]\n"
          ]
        }
      ],
      "source": [
        "import numpy as np\n",
        "\n",
        "def matrix_multi_vector(matrix, vector):\n",
        "    return np.dot(matrix, vector)\n",
        "\n",
        "matrix = np.array([[-1, 1, 1], [0, -4, 9]])\n",
        "vector = np.array([0, 2, 1])\n",
        "result = matrix_multi_vector(matrix, vector)\n",
        "print(result)"
      ]
    },
    {
      "cell_type": "markdown",
      "metadata": {
        "id": "3C4wp9WAEo6x"
      },
      "source": [
        "# Câu hỏi 4"
      ]
    },
    {
      "cell_type": "code",
      "execution_count": 4,
      "metadata": {
        "id": "VBc9c0jgEo6x"
      },
      "outputs": [
        {
          "name": "stdout",
          "output_type": "stream",
          "text": [
            "[[  6  -1]\n",
            " [-16 -10]]\n"
          ]
        }
      ],
      "source": [
        "import numpy as np\n",
        "\n",
        "def matrix_multi_matrix(matrix1, matrix2):\n",
        "    return np.dot(matrix1, matrix2)\n",
        "\n",
        "m1 = np.array([[0, 1, 2], [2, -3, 1]])\n",
        "m2 = np.array([[1, -3], [6, 1], [0, -1]])\n",
        "result = matrix_multi_matrix(m1, m2)\n",
        "print(result)"
      ]
    },
    {
      "cell_type": "markdown",
      "metadata": {
        "id": "ytZOAfhTEo6y"
      },
      "source": [
        "# Câu hỏi 5"
      ]
    },
    {
      "cell_type": "code",
      "execution_count": 5,
      "metadata": {
        "id": "gpMCsOmYEo6y"
      },
      "outputs": [
        {
          "name": "stdout",
          "output_type": "stream",
          "text": [
            "0.577\n"
          ]
        }
      ],
      "source": [
        "import numpy as np\n",
        "\n",
        "def compute_cosine(v1, v2):\n",
        "    dot_product = np.dot(v1, v2)\n",
        "    norm_v1 = np.sqrt(np.sum(v1**2))\n",
        "    norm_v2 = np.sqrt(np.sum(v2**2))\n",
        "    return dot_product / (norm_v1 * norm_v2)\n",
        "\n",
        "x = np.array([1, 2, 3, 4])\n",
        "y = np.array([1, 0, 3, 0])\n",
        "result = compute_cosine(x, y)\n",
        "print(round(result, 3))"
      ]
    },
    {
      "cell_type": "markdown",
      "metadata": {
        "id": "ga1Nq5daEo6y"
      },
      "source": [
        "# Câu hỏi 6"
      ]
    },
    {
      "cell_type": "code",
      "execution_count": 6,
      "metadata": {
        "id": "ZQBMtTWAEo6y"
      },
      "outputs": [
        {
          "name": "stdout",
          "output_type": "stream",
          "text": [
            "[1 3 5 7 9]\n"
          ]
        }
      ],
      "source": [
        "import numpy as np\n",
        "arr = np.arange(0, 10)\n",
        "print(arr[arr % 2 == 1])"
      ]
    },
    {
      "cell_type": "markdown",
      "metadata": {
        "id": "3aLPhpd6Eo6y"
      },
      "source": [
        "# Câu hỏi 7"
      ]
    },
    {
      "cell_type": "code",
      "execution_count": 7,
      "metadata": {
        "id": "FtJg4XimEo6y"
      },
      "outputs": [
        {
          "name": "stdout",
          "output_type": "stream",
          "text": [
            "[ 0 -1  2 -1  4 -1  6 -1  8 -1]\n"
          ]
        }
      ],
      "source": [
        "import numpy as np\n",
        "arr = np.arange(0, 10)\n",
        "arr[arr % 2 == 1] = -1\n",
        "print(arr)"
      ]
    },
    {
      "cell_type": "markdown",
      "metadata": {
        "id": "cjbWSM7yEo6y"
      },
      "source": [
        "# Câu hỏi 8"
      ]
    },
    {
      "cell_type": "code",
      "execution_count": 8,
      "metadata": {
        "id": "a9iieijBEo6y"
      },
      "outputs": [
        {
          "name": "stdout",
          "output_type": "stream",
          "text": [
            "[[0 1 2 3 4]\n",
            " [5 6 7 8 9]]\n",
            "[[1 1 1 1 1]\n",
            " [1 1 1 1 1]]\n",
            "[[0 1 2 3 4]\n",
            " [5 6 7 8 9]\n",
            " [1 1 1 1 1]\n",
            " [1 1 1 1 1]]\n"
          ]
        }
      ],
      "source": [
        "import numpy as np\n",
        "arr1 = np.arange(10).reshape(2, -1)\n",
        "print(arr1)\n",
        "arr2 = np.ones((2, 5), dtype=int)\n",
        "print(arr2)\n",
        "c = np.concatenate([arr1, arr2], axis=0)\n",
        "print(c)"
      ]
    },
    {
      "cell_type": "markdown",
      "metadata": {
        "id": "uBMgj84tEo6y"
      },
      "source": [
        "# Câu hỏi 9"
      ]
    },
    {
      "cell_type": "code",
      "execution_count": 9,
      "metadata": {
        "id": "mumDGR4qEo6y"
      },
      "outputs": [
        {
          "name": "stdout",
          "output_type": "stream",
          "text": [
            "[[0 1 2 3 4]\n",
            " [5 6 7 8 9]]\n",
            "[[1 1 1 1 1]\n",
            " [1 1 1 1 1]]\n",
            "[[0 1 2 3 4 1 1 1 1 1]\n",
            " [5 6 7 8 9 1 1 1 1 1]]\n"
          ]
        }
      ],
      "source": [
        "import numpy as np\n",
        "arr1 = np.arange(10).reshape(2, -1)\n",
        "print(arr1)\n",
        "arr2 = np.ones((2, 5), dtype=int)\n",
        "print(arr2)\n",
        "c = np.concatenate([arr1, arr2], axis=1)\n",
        "print(c)"
      ]
    },
    {
      "cell_type": "markdown",
      "metadata": {
        "id": "3rfGU32lEo6z"
      },
      "source": [
        "# Câu hỏi 10"
      ]
    },
    {
      "cell_type": "code",
      "execution_count": 10,
      "metadata": {
        "id": "M4Bz1g9BEo6z"
      },
      "outputs": [
        {
          "name": "stdout",
          "output_type": "stream",
          "text": [
            "[ 6  9 10]\n"
          ]
        }
      ],
      "source": [
        "import numpy as np\n",
        "a = np.array([2, 6, 1, 9, 10, 3, 27])\n",
        "index = np.where((a >= 5) & (a <= 10))\n",
        "print(a[index])"
      ]
    },
    {
      "cell_type": "markdown",
      "metadata": {
        "id": "uwbu7lgoEo6z"
      },
      "source": [
        "# Câu hỏi 11"
      ]
    },
    {
      "cell_type": "code",
      "execution_count": 11,
      "metadata": {
        "id": "WEDVwW8zEo6z"
      },
      "outputs": [
        {
          "name": "stderr",
          "output_type": "stream",
          "text": [
            "Downloading...\n",
            "From: https://drive.google.com/uc?id=1KAZQVg40mG0vuEdC4HbjkDdms_brf2bW\n",
            "To: d:\\GitHub\\AIO_Module_II\\Homework\\dog.jpeg\n",
            "\n",
            "  0%|          | 0.00/33.7k [00:00<?, ?B/s]\n",
            "100%|██████████| 33.7k/33.7k [00:00<00:00, 13.2MB/s]\n"
          ]
        }
      ],
      "source": [
        "!gdown 1KAZQVg40mG0vuEdC4HbjkDdms_brf2bW\n",
        "import matplotlib.image as mpimg\n",
        "import numpy as np\n",
        "img = mpimg.imread('./dog.jpeg')"
      ]
    },
    {
      "cell_type": "markdown",
      "metadata": {
        "id": "m-KSGrahEo6z"
      },
      "source": [
        "# Câu hỏi 11"
      ]
    },
    {
      "cell_type": "code",
      "execution_count": 12,
      "metadata": {
        "id": "sLWTwE29Eo6z"
      },
      "outputs": [
        {
          "name": "stdout",
          "output_type": "stream",
          "text": [
            "102.5\n"
          ]
        }
      ],
      "source": [
        "# *********** Your code here ***********\n",
        "# Sử dụng công thức Lightness: (max(R,G,B) + min(R,G,B))/2\n",
        "gray_img_01 = (np.max(img, axis=2) + np.min(img, axis=2)) / 2\n",
        "\n",
        "print(gray_img_01[0, 0])"
      ]
    },
    {
      "cell_type": "markdown",
      "metadata": {
        "id": "Sn9cCCXbEo6z"
      },
      "source": [
        "# Câu hỏi 12"
      ]
    },
    {
      "cell_type": "code",
      "execution_count": 13,
      "metadata": {
        "id": "qlSvPlchEo6z"
      },
      "outputs": [
        {
          "name": "stdout",
          "output_type": "stream",
          "text": [
            "107.66666666666667\n"
          ]
        }
      ],
      "source": [
        "# *********** Your code here ***********\n",
        "# Sử dụng công thức Average: (R+G+B)/3\n",
        "gray_img_02 = np.sum(img, axis=2) / 3\n",
        "\n",
        "print(gray_img_02[0, 0])"
      ]
    },
    {
      "cell_type": "markdown",
      "metadata": {
        "id": "7xEdv4BlEo6z"
      },
      "source": [
        "# Câu hỏi 13"
      ]
    },
    {
      "cell_type": "code",
      "execution_count": 14,
      "metadata": {
        "id": "FUT6W9PrEo6z"
      },
      "outputs": [
        {
          "name": "stdout",
          "output_type": "stream",
          "text": [
            "126.22999999999999\n"
          ]
        }
      ],
      "source": [
        "# *********** Your code here ***********\n",
        "# Sử dụng công thức Luminosity: 0.21*R + 0.72*G + 0.07*B\n",
        "gray_img_03 = (img[:, :, 0] * 0.21 + img[:, :, 1] * 0.72 + img[:, :, 2] * 0.07)\n",
        "\n",
        "print(gray_img_03[0, 0])"
      ]
    },
    {
      "cell_type": "markdown",
      "metadata": {
        "id": "u3RJ1RILPQUt"
      },
      "source": [
        "# **Background Subtraction**"
      ]
    },
    {
      "cell_type": "code",
      "execution_count": 15,
      "metadata": {
        "id": "jz-8DX1sGmpd"
      },
      "outputs": [
        {
          "name": "stderr",
          "output_type": "stream",
          "text": [
            "Downloading...\n",
            "From: https://drive.google.com/uc?id=1QAXardZbIByfehzshQvbw4ByxiTC1ztU\n",
            "To: d:\\GitHub\\AIO_Module_II\\Homework\\Object.png\n",
            "\n",
            "  0%|          | 0.00/51.0k [00:00<?, ?B/s]\n",
            "100%|██████████| 51.0k/51.0k [00:00<00:00, 11.2MB/s]\n",
            "Downloading...\n",
            "From: https://drive.google.com/uc?id=1DpKi1rgqHgAEAA0Cx2RWZs_7yWv5bv2T\n",
            "To: d:\\GitHub\\AIO_Module_II\\Homework\\GreenBackground.png\n",
            "\n",
            "  0%|          | 0.00/5.51k [00:00<?, ?B/s]\n",
            "100%|██████████| 5.51k/5.51k [00:00<00:00, 4.96MB/s]\n",
            "Downloading...\n",
            "From: https://drive.google.com/uc?id=1DYO_g9_NPjwVOxXNZ4upEWjfHBm4byqU\n",
            "To: d:\\GitHub\\AIO_Module_II\\Homework\\NewBackground.jpg\n",
            "\n",
            "  0%|          | 0.00/64.3k [00:00<?, ?B/s]\n",
            "100%|██████████| 64.3k/64.3k [00:00<00:00, 1.72MB/s]\n"
          ]
        }
      ],
      "source": [
        "!gdown 1QAXardZbIByfehzshQvbw4ByxiTC1ztU\n",
        "!gdown 1DpKi1rgqHgAEAA0Cx2RWZs_7yWv5bv2T\n",
        "!gdown 1DYO_g9_NPjwVOxXNZ4upEWjfHBm4byqU"
      ]
    },
    {
      "cell_type": "code",
      "execution_count": 16,
      "metadata": {
        "id": "EHCQ2LhdOEpx"
      },
      "outputs": [
        {
          "name": "stdout",
          "output_type": "stream",
          "text": [
            "(381, 678, 3)\n",
            "(381, 678, 3)\n",
            "(408, 612, 3)\n"
          ]
        }
      ],
      "source": [
        "import cv2\n",
        "\n",
        "bg1_image = cv2.imread('GreenBackground.png', 1)\n",
        "ob_image = cv2.imread('Object.png', 1)\n",
        "bg2_image = cv2.imread('NewBackground.jpg', 1)\n",
        "print(bg1_image.shape)\n",
        "print(ob_image.shape)\n",
        "print(bg2_image.shape)"
      ]
    },
    {
      "cell_type": "code",
      "execution_count": 17,
      "metadata": {
        "id": "Xw_2JcRpOf79"
      },
      "outputs": [
        {
          "name": "stdout",
          "output_type": "stream",
          "text": [
            "(381, 678, 3)\n",
            "(381, 678, 3)\n",
            "(381, 678, 3)\n"
          ]
        }
      ],
      "source": [
        "IMG_SIZE = (678, 381)\n",
        "bg1_image = cv2.resize(bg1_image, IMG_SIZE)\n",
        "ob_image = cv2.resize(ob_image, IMG_SIZE)\n",
        "bg2_image = cv2.resize(bg2_image, IMG_SIZE)\n",
        "print(bg1_image.shape)\n",
        "print(ob_image.shape)\n",
        "print(bg2_image.shape)"
      ]
    },
    {
      "cell_type": "code",
      "execution_count": 18,
      "metadata": {
        "id": "5jO7ibqAOvWp"
      },
      "outputs": [
        {
          "name": "stdout",
          "output_type": "stream",
          "text": [
            "(381, 678)\n"
          ]
        }
      ],
      "source": [
        "import cv2\n",
        "def compute_difference(bg_img, input_img):\n",
        "    return np.abs(bg_img - input_img).mean(axis=2)\n",
        "\n",
        "difference_single_channel = compute_difference(\n",
        "    bg1_image, ob_image\n",
        ")\n",
        "print(difference_single_channel.shape)\n",
        "cv2.imshow('Difference', difference_single_channel.astype(np.uint8))\n",
        "cv2.waitKey(0)  # Chờ bấm phím bất kỳ\n",
        "cv2.destroyAllWindows()  # Đóng cửa sổ"
      ]
    },
    {
      "cell_type": "code",
      "execution_count": 19,
      "metadata": {
        "id": "f6SPNEfNPVCZ"
      },
      "outputs": [],
      "source": [
        "def compute_binary_mask(difference_single_channel):\n",
        "    difference_binary = np.where(\n",
        "        difference_single_channel >= 15, 255, 0\n",
        "    )\n",
        "    difference_binary = np.stack(\n",
        "        (difference_binary,)*3, axis=-1\n",
        "    )\n",
        "    return difference_binary\n",
        "\n",
        "binary_mask = compute_binary_mask(\n",
        "    difference_single_channel\n",
        ")\n",
        "cv2.imshow('Binary Mask', binary_mask.astype(np.uint8))\n",
        "cv2.waitKey(0)\n",
        "cv2.destroyAllWindows()"
      ]
    },
    {
      "cell_type": "code",
      "execution_count": 20,
      "metadata": {
        "id": "dmCNgV9gPdtx"
      },
      "outputs": [],
      "source": [
        "def replace_background(bg1_image, bg2_image, ob_image):\n",
        "    difference_single_channel = compute_difference(bg1_image,ob_image)\n",
        "    binary_mask = compute_binary_mask(difference_single_channel)\n",
        "\n",
        "    output = np.where(binary_mask==255, ob_image, bg2_image)\n",
        "\n",
        "    return output\n",
        "\n",
        "output = replace_background(bg1_image, bg2_image, ob_image)\n",
        "\n",
        "cv2.imshow('Output', output.astype(np.uint8))\n",
        "cv2.waitKey(0)\n",
        "cv2.destroyAllWindows()"
      ]
    },
    {
      "cell_type": "markdown",
      "metadata": {
        "id": "nfnTxkuLEo6z"
      },
      "source": [
        "# Câu hỏi 14"
      ]
    },
    {
      "cell_type": "code",
      "execution_count": 21,
      "metadata": {
        "id": "-cM8gJMQEo6z"
      },
      "outputs": [
        {
          "name": "stdout",
          "output_type": "stream",
          "text": [
            "(381, 678)\n"
          ]
        }
      ],
      "source": [
        "import numpy as np\n",
        "import cv2\n",
        "bg1_image = cv2.imread('GreenBackground.png', 1)\n",
        "bg1_image = cv2.resize(bg1_image, (678, 381))\n",
        "ob_image = cv2.imread('Object.png', 1)\n",
        "ob_image = cv2.resize(ob_image, (678, 381))\n",
        "def compute_difference(bg_img, input_img):\n",
        "    return np.abs(bg_img - input_img).mean(axis=2)\n",
        "difference_single_channel = compute_difference(bg1_image, ob_image)\n",
        "print(difference_single_channel.shape)"
      ]
    },
    {
      "cell_type": "markdown",
      "metadata": {
        "id": "lHIKSlXjEo6z"
      },
      "source": [
        "# Câu hỏi 15"
      ]
    },
    {
      "cell_type": "code",
      "execution_count": null,
      "metadata": {
        "id": "Z0M9c_KYEo6z"
      },
      "outputs": [
        {
          "name": "stdout",
          "output_type": "stream",
          "text": [
            "uint8\n"
          ]
        }
      ],
      "source": [
        "import numpy as np\n",
        "import cv2\n",
        "def compute_binary_mask(difference_single_channel):\n",
        "    binary_mask = (difference_single_channel > 50).astype(np.uint8) * 255\n",
        "    return binary_mask\n",
        "difference_single_channel = np.random.rand(678, 381) * 100\n",
        "binary_mask = compute_binary_mask(difference_single_channel)\n",
        "print(binary_mask.dtype)"
      ]
    },
    {
      "cell_type": "markdown",
      "metadata": {
        "id": "_02hD1VwEo6z"
      },
      "source": [
        "# Câu hỏi 16"
      ]
    },
    {
      "cell_type": "code",
      "execution_count": 23,
      "metadata": {
        "id": "Y07uqLfxHjo_"
      },
      "outputs": [
        {
          "name": "stderr",
          "output_type": "stream",
          "text": [
            "Downloading...\n",
            "From: https://drive.google.com/uc?id=1YF4WkCaaGYd2Zm-PNoLa2A2tFf3e64ci\n",
            "To: d:\\GitHub\\AIO_Module_II\\Homework\\advertising.csv\n",
            "\n",
            "  0%|          | 0.00/4.06k [00:00<?, ?B/s]\n",
            "100%|██████████| 4.06k/4.06k [00:00<00:00, 4.06MB/s]\n"
          ]
        }
      ],
      "source": [
        "!gdown 1YF4WkCaaGYd2Zm-PNoLa2A2tFf3e64ci"
      ]
    },
    {
      "cell_type": "code",
      "execution_count": 24,
      "metadata": {
        "id": "nnvBcRBVe4ct"
      },
      "outputs": [
        {
          "data": {
            "text/plain": [
              "array([[230.1,  37.8,  69.2,  22.1],\n",
              "       [ 44.5,  39.3,  45.1,  10.4],\n",
              "       [ 17.2,  45.9,  69.3,  12. ],\n",
              "       [151.5,  41.3,  58.5,  16.5],\n",
              "       [180.8,  10.8,  58.4,  17.9]])"
            ]
          },
          "execution_count": 24,
          "metadata": {},
          "output_type": "execute_result"
        }
      ],
      "source": [
        "import pandas as pd\n",
        "\n",
        "df = pd.read_csv('./advertising.csv')\n",
        "data = df.to_numpy()\n",
        "data[:5]"
      ]
    },
    {
      "cell_type": "code",
      "execution_count": 31,
      "metadata": {},
      "outputs": [
        {
          "data": {
            "text/html": [
              "<div>\n",
              "<style scoped>\n",
              "    .dataframe tbody tr th:only-of-type {\n",
              "        vertical-align: middle;\n",
              "    }\n",
              "\n",
              "    .dataframe tbody tr th {\n",
              "        vertical-align: top;\n",
              "    }\n",
              "\n",
              "    .dataframe thead th {\n",
              "        text-align: right;\n",
              "    }\n",
              "</style>\n",
              "<table border=\"1\" class=\"dataframe\">\n",
              "  <thead>\n",
              "    <tr style=\"text-align: right;\">\n",
              "      <th></th>\n",
              "      <th>TV</th>\n",
              "      <th>Radio</th>\n",
              "      <th>Newspaper</th>\n",
              "      <th>Sales</th>\n",
              "    </tr>\n",
              "  </thead>\n",
              "  <tbody>\n",
              "    <tr>\n",
              "      <th>0</th>\n",
              "      <td>230.1</td>\n",
              "      <td>37.8</td>\n",
              "      <td>69.2</td>\n",
              "      <td>22.1</td>\n",
              "    </tr>\n",
              "    <tr>\n",
              "      <th>1</th>\n",
              "      <td>44.5</td>\n",
              "      <td>39.3</td>\n",
              "      <td>45.1</td>\n",
              "      <td>10.4</td>\n",
              "    </tr>\n",
              "    <tr>\n",
              "      <th>2</th>\n",
              "      <td>17.2</td>\n",
              "      <td>45.9</td>\n",
              "      <td>69.3</td>\n",
              "      <td>12.0</td>\n",
              "    </tr>\n",
              "    <tr>\n",
              "      <th>3</th>\n",
              "      <td>151.5</td>\n",
              "      <td>41.3</td>\n",
              "      <td>58.5</td>\n",
              "      <td>16.5</td>\n",
              "    </tr>\n",
              "    <tr>\n",
              "      <th>4</th>\n",
              "      <td>180.8</td>\n",
              "      <td>10.8</td>\n",
              "      <td>58.4</td>\n",
              "      <td>17.9</td>\n",
              "    </tr>\n",
              "    <tr>\n",
              "      <th>...</th>\n",
              "      <td>...</td>\n",
              "      <td>...</td>\n",
              "      <td>...</td>\n",
              "      <td>...</td>\n",
              "    </tr>\n",
              "    <tr>\n",
              "      <th>195</th>\n",
              "      <td>38.2</td>\n",
              "      <td>3.7</td>\n",
              "      <td>13.8</td>\n",
              "      <td>7.6</td>\n",
              "    </tr>\n",
              "    <tr>\n",
              "      <th>196</th>\n",
              "      <td>94.2</td>\n",
              "      <td>4.9</td>\n",
              "      <td>8.1</td>\n",
              "      <td>14.0</td>\n",
              "    </tr>\n",
              "    <tr>\n",
              "      <th>197</th>\n",
              "      <td>177.0</td>\n",
              "      <td>9.3</td>\n",
              "      <td>6.4</td>\n",
              "      <td>14.8</td>\n",
              "    </tr>\n",
              "    <tr>\n",
              "      <th>198</th>\n",
              "      <td>283.6</td>\n",
              "      <td>42.0</td>\n",
              "      <td>66.2</td>\n",
              "      <td>25.5</td>\n",
              "    </tr>\n",
              "    <tr>\n",
              "      <th>199</th>\n",
              "      <td>232.1</td>\n",
              "      <td>8.6</td>\n",
              "      <td>8.7</td>\n",
              "      <td>18.4</td>\n",
              "    </tr>\n",
              "  </tbody>\n",
              "</table>\n",
              "<p>200 rows × 4 columns</p>\n",
              "</div>"
            ],
            "text/plain": [
              "        TV  Radio  Newspaper  Sales\n",
              "0    230.1   37.8       69.2   22.1\n",
              "1     44.5   39.3       45.1   10.4\n",
              "2     17.2   45.9       69.3   12.0\n",
              "3    151.5   41.3       58.5   16.5\n",
              "4    180.8   10.8       58.4   17.9\n",
              "..     ...    ...        ...    ...\n",
              "195   38.2    3.7       13.8    7.6\n",
              "196   94.2    4.9        8.1   14.0\n",
              "197  177.0    9.3        6.4   14.8\n",
              "198  283.6   42.0       66.2   25.5\n",
              "199  232.1    8.6        8.7   18.4\n",
              "\n",
              "[200 rows x 4 columns]"
            ]
          },
          "execution_count": 31,
          "metadata": {},
          "output_type": "execute_result"
        }
      ],
      "source": [
        "df"
      ]
    },
    {
      "cell_type": "code",
      "execution_count": 26,
      "metadata": {
        "id": "mHNwLKenEo6z"
      },
      "outputs": [
        {
          "name": "stdout",
          "output_type": "stream",
          "text": [
            "Max: 27.0 - Index: 175\n"
          ]
        }
      ],
      "source": [
        "import pandas as pd\n",
        "import numpy as np\n",
        "df = pd.read_csv('./advertising.csv')\n",
        "data = df.to_numpy()\n",
        "sales = data[:, -1]\n",
        "max_value = np.max(sales)\n",
        "max_index = np.argmax(sales)\n",
        "print(f\"Max: {max_value} - Index: {max_index}\")"
      ]
    },
    {
      "cell_type": "markdown",
      "metadata": {
        "id": "zWAPuv-NEo60"
      },
      "source": [
        "# Câu hỏi 17"
      ]
    },
    {
      "cell_type": "code",
      "execution_count": 27,
      "metadata": {
        "id": "pND1tbGNEo60"
      },
      "outputs": [
        {
          "name": "stdout",
          "output_type": "stream",
          "text": [
            "147.0425\n"
          ]
        }
      ],
      "source": [
        "import pandas as pd\n",
        "import numpy as np\n",
        "df = pd.read_csv('./advertising.csv')\n",
        "data = df.to_numpy()\n",
        "tv = data[:, 0]\n",
        "mean_tv = np.mean(tv)\n",
        "print(mean_tv)"
      ]
    },
    {
      "cell_type": "markdown",
      "metadata": {
        "id": "f33cLQQHEo60"
      },
      "source": [
        "# Câu hỏi 18"
      ]
    },
    {
      "cell_type": "code",
      "execution_count": 29,
      "metadata": {
        "id": "Cdtd9cFIEo69"
      },
      "outputs": [
        {
          "name": "stdout",
          "output_type": "stream",
          "text": [
            "40\n"
          ]
        }
      ],
      "source": [
        "import pandas as pd\n",
        "import numpy as np\n",
        "df = pd.read_csv('./advertising.csv')\n",
        "data = df.to_numpy()\n",
        "sales = data[:, -1]\n",
        "count = np.count_nonzero(sales >= 20)\n",
        "print(count)"
      ]
    },
    {
      "cell_type": "markdown",
      "metadata": {
        "id": "SrmG41vrEo69"
      },
      "source": [
        "# Câu hỏi 19"
      ]
    },
    {
      "cell_type": "code",
      "execution_count": 32,
      "metadata": {
        "id": "sTHBDBTVEo69"
      },
      "outputs": [
        {
          "name": "stdout",
          "output_type": "stream",
          "text": [
            "26.22293577981651\n"
          ]
        }
      ],
      "source": [
        "import pandas as pd\n",
        "import numpy as np\n",
        "df = pd.read_csv('./advertising.csv')\n",
        "data = df.to_numpy()\n",
        "sales = data[:, -1]\n",
        "radio = data[:, 1]\n",
        "mean_radio = np.mean(radio[sales >= 15])\n",
        "print(mean_radio)"
      ]
    },
    {
      "cell_type": "markdown",
      "metadata": {
        "id": "eRAH_2msEo69"
      },
      "source": [
        "# Câu hỏi 20"
      ]
    },
    {
      "cell_type": "code",
      "execution_count": 33,
      "metadata": {
        "id": "8YKlBdAFEo69"
      },
      "outputs": [
        {
          "name": "stdout",
          "output_type": "stream",
          "text": [
            "1405.1\n"
          ]
        }
      ],
      "source": [
        "import pandas as pd\n",
        "import numpy as np\n",
        "df = pd.read_csv('./advertising.csv')\n",
        "data = df.to_numpy()\n",
        "sales = data[:, -1]\n",
        "newspaper = data[:, 2]\n",
        "mean_newspaper = np.mean(newspaper)\n",
        "sum_sales = np.sum(sales[newspaper > mean_newspaper])\n",
        "print(sum_sales)"
      ]
    }
  ],
  "metadata": {
    "colab": {
      "provenance": []
    },
    "kernelspec": {
      "display_name": "base",
      "language": "python",
      "name": "python3"
    },
    "language_info": {
      "codemirror_mode": {
        "name": "ipython",
        "version": 3
      },
      "file_extension": ".py",
      "mimetype": "text/x-python",
      "name": "python",
      "nbconvert_exporter": "python",
      "pygments_lexer": "ipython3",
      "version": "3.10.16"
    }
  },
  "nbformat": 4,
  "nbformat_minor": 0
}
