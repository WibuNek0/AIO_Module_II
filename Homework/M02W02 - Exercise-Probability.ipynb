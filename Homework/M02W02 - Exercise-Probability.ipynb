{
 "cells": [
  {
   "cell_type": "code",
   "execution_count": 1,
   "metadata": {
    "executionInfo": {
     "elapsed": 8,
     "status": "ok",
     "timestamp": 1752418697266,
     "user": {
      "displayName": "AIO",
      "userId": "08245194604912763444"
     },
     "user_tz": -420
    },
    "id": "odxm81_ozpNi"
   },
   "outputs": [],
   "source": [
    "import numpy as np\n",
    "from typing import List, Tuple, Dict"
   ]
  },
  {
   "cell_type": "markdown",
   "metadata": {},
   "source": [
    "## Play Tennis Sample"
   ]
  },
  {
   "cell_type": "code",
   "execution_count": 2,
   "metadata": {
    "colab": {
     "base_uri": "https://localhost:8080/"
    },
    "executionInfo": {
     "elapsed": 11,
     "status": "ok",
     "timestamp": 1752418797233,
     "user": {
      "displayName": "AIO",
      "userId": "08245194604912763444"
     },
     "user_tz": -420
    },
    "id": "pwOsqEWjzwIz",
    "outputId": "79fc12f7-8738-4a61-9d28-e3d3c72b1b72"
   },
   "outputs": [
    {
     "name": "stdout",
     "output_type": "stream",
     "text": [
      "[['Sunny' 'Hot' 'High' 'Weak' 'No']\n",
      " ['Sunny' 'Hot' 'High' 'Strong' 'No']\n",
      " ['Overcast' 'Hot' 'High' 'Weak' 'Yes']\n",
      " ['Rain' 'Mild' 'High' 'Weak' 'Yes']\n",
      " ['Rain' 'Cool' 'Normal' 'Weak' 'Yes']\n",
      " ['Rain' 'Cool' 'Normal' 'Strong' 'No']\n",
      " ['Overcast' 'Cool' 'Normal' 'Strong' 'Yes']\n",
      " ['Overcast' 'Mild' 'High' 'Weak' 'No']\n",
      " ['Sunny' 'Cool' 'Normal' 'Weak' 'Yes']\n",
      " ['Rain' 'Mild' 'Normal' 'Weak' 'Yes']]\n"
     ]
    }
   ],
   "source": [
    "def create_training_data():\n",
    "    \"\"\"Create the training dataset for tennis prediction.\"\"\"\n",
    "    data = [\n",
    "        ['Sunny', 'Hot', 'High', 'Weak', 'No'],\n",
    "        ['Sunny', 'Hot', 'High', 'Strong', 'No'],\n",
    "        ['Overcast', 'Hot', 'High', 'Weak', 'Yes'],\n",
    "        ['Rain', 'Mild', 'High', 'Weak', 'Yes'],\n",
    "        ['Rain', 'Cool', 'Normal', 'Weak', 'Yes'],\n",
    "        ['Rain', 'Cool', 'Normal', 'Strong', 'No'],\n",
    "        ['Overcast', 'Cool', 'Normal', 'Strong', 'Yes'],\n",
    "        ['Overcast', 'Mild', 'High', 'Weak', 'No'],\n",
    "        ['Sunny', 'Cool', 'Normal', 'Weak', 'Yes'],\n",
    "        ['Rain', 'Mild', 'Normal', 'Weak', 'Yes']\n",
    "    ]\n",
    "    return np.array(data)\n",
    "\n",
    "train_data = create_training_data()\n",
    "print(train_data)"
   ]
  },
  {
   "cell_type": "code",
   "execution_count": 3,
   "metadata": {
    "colab": {
     "base_uri": "https://localhost:8080/"
    },
    "executionInfo": {
     "elapsed": 10,
     "status": "ok",
     "timestamp": 1752419051838,
     "user": {
      "displayName": "AIO",
      "userId": "08245194604912763444"
     },
     "user_tz": -420
    },
    "id": "AqBjC4_cz3o6",
    "outputId": "08d6901d-7dbd-4e2c-c07e-4a01675bf486"
   },
   "outputs": [
    {
     "name": "stdout",
     "output_type": "stream",
     "text": [
      "P(“Play Tennis” = Yes) 0.6\n",
      "P(“Play Tennis” = No) 0.4\n"
     ]
    }
   ],
   "source": [
    "def compute_prior_probabilities(train_data):\n",
    "    \"\"\"\n",
    "    Calculate prior probabilities P(Play Tennis = Yes/No).\n",
    "\n",
    "    Args:\n",
    "        train_data: Training dataset\n",
    "\n",
    "    Returns:\n",
    "        Array of prior probabilities [P(No), P(Yes)]\n",
    "    \"\"\"\n",
    "\n",
    "    ### Your code here\n",
    "    class_names = ['No', 'Yes']\n",
    "    total_samples = len(train_data)\n",
    "    prior_probs = np.zeros(len(class_names))\n",
    "    for i, class_name in enumerate(class_names):\n",
    "        class_count = np.sum(train_data[:, -1] == class_name)\n",
    "        prior_probs[i] = class_count / total_samples\n",
    "\n",
    "    return prior_probs\n",
    "\n",
    "prior_probablity = compute_prior_probabilities(train_data)\n",
    "print(\"P(“Play Tennis” = Yes)\", prior_probablity[1])\n",
    "print(\"P(“Play Tennis” = No)\", prior_probablity[0])"
   ]
  },
  {
   "cell_type": "code",
   "execution_count": 4,
   "metadata": {
    "colab": {
     "base_uri": "https://localhost:8080/"
    },
    "executionInfo": {
     "elapsed": 10,
     "status": "ok",
     "timestamp": 1752419028470,
     "user": {
      "displayName": "AIO",
      "userId": "08245194604912763444"
     },
     "user_tz": -420
    },
    "id": "Rtta9omFUEeZ",
    "outputId": "73d32278-70af-4714-9f9f-7116973f011a"
   },
   "outputs": [
    {
     "data": {
      "text/plain": [
       "array([0.4, 0.6])"
      ]
     },
     "execution_count": 4,
     "metadata": {},
     "output_type": "execute_result"
    }
   ],
   "source": [
    "prior_probablity"
   ]
  },
  {
   "cell_type": "code",
   "execution_count": 5,
   "metadata": {
    "executionInfo": {
     "elapsed": 3,
     "status": "ok",
     "timestamp": 1752419673601,
     "user": {
      "displayName": "AIO",
      "userId": "08245194604912763444"
     },
     "user_tz": -420
    },
    "id": "t42il4mX0Fz1"
   },
   "outputs": [],
   "source": [
    "def compute_conditional_probabilities(train_data):\n",
    "    \"\"\"\n",
    "    Calculate conditional probabilities P(Feature|Class) for all features.\n",
    "\n",
    "    Args:\n",
    "        train_data: Training dataset\n",
    "\n",
    "    Returns:\n",
    "        Tuple of (conditional_probabilities, feature_values)\n",
    "    \"\"\"\n",
    "    class_names = ['No', 'Yes']\n",
    "    n_features = train_data.shape[1] - 1  # Exclude target column\n",
    "    conditional_probs = []\n",
    "    feature_values = []\n",
    "\n",
    "    for feature_idx in range(n_features): # 0, 1, 2, 3\n",
    "        # Get unique values for this feature\n",
    "        unique_values = np.unique(train_data[:, feature_idx]) # 0: S, O R\n",
    "        feature_values.append(unique_values)\n",
    "\n",
    "        # Initialize conditional probability matrix\n",
    "        feature_cond_probs = np.zeros((len(class_names), len(unique_values)))\n",
    "        # 0: 2x3\n",
    "\n",
    "        for class_idx, class_name in enumerate(class_names):\n",
    "            # Get samples for this class\n",
    "            class_mask = train_data[:, -1] == class_name\n",
    "            class_samples = train_data[class_mask]\n",
    "\n",
    "            # Count occurrences of each feature value in this class\n",
    "\n",
    "            for value_idx, value in enumerate(unique_values):\n",
    "                # Count occurrences of this feature value in this class\n",
    "                # 0: S, O, R\n",
    "                feature_count = np.sum(class_samples[:, feature_idx] == value)\n",
    "                # Calculate conditional probability\n",
    "                feature_cond_probs[class_idx, value_idx] = feature_count / len(class_samples)\n",
    "\n",
    "        conditional_probs.append(feature_cond_probs)\n",
    "\n",
    "    return conditional_probs, feature_values"
   ]
  },
  {
   "cell_type": "code",
   "execution_count": 6,
   "metadata": {
    "colab": {
     "base_uri": "https://localhost:8080/"
    },
    "executionInfo": {
     "elapsed": 12,
     "status": "ok",
     "timestamp": 1752419681494,
     "user": {
      "displayName": "AIO",
      "userId": "08245194604912763444"
     },
     "user_tz": -420
    },
    "id": "grcxh-wn0qxs",
    "outputId": "6b819709-0697-4a64-9935-e7ec308a495d"
   },
   "outputs": [
    {
     "name": "stdout",
     "output_type": "stream",
     "text": [
      "[[0.25       0.25       0.5       ]\n",
      " [0.33333333 0.5        0.16666667]]\n",
      "[[0.25       0.5        0.25      ]\n",
      " [0.5        0.16666667 0.33333333]]\n",
      "[[0.75       0.25      ]\n",
      " [0.33333333 0.66666667]]\n",
      "[[0.5        0.5       ]\n",
      " [0.16666667 0.83333333]]\n",
      "['Overcast' 'Rain' 'Sunny']\n",
      "['Cool' 'Hot' 'Mild']\n",
      "['High' 'Normal']\n",
      "['Strong' 'Weak']\n"
     ]
    }
   ],
   "source": [
    "_, feature_values  = compute_conditional_probabilities(train_data)\n",
    "for x in _:\n",
    "    print(x)\n",
    "\n",
    "for feature in feature_values:\n",
    "    print(feature)"
   ]
  },
  {
   "cell_type": "code",
   "execution_count": 7,
   "metadata": {
    "executionInfo": {
     "elapsed": 36,
     "status": "ok",
     "timestamp": 1752419751304,
     "user": {
      "displayName": "AIO",
      "userId": "08245194604912763444"
     },
     "user_tz": -420
    },
    "id": "dUCuBxUV1Bey"
   },
   "outputs": [],
   "source": [
    "def train_naive_bayes(train_data):\n",
    "    \"\"\"\n",
    "    Train the Naive Bayes classifier.\n",
    "\n",
    "    Args:\n",
    "        train_data: Training dataset\n",
    "\n",
    "    Returns:\n",
    "        Tuple of (prior_probabilities, conditional_probabilities, feature_names)\n",
    "    \"\"\"\n",
    "\n",
    "    # Calculate prior probabilities\n",
    "    prior_probabilities = compute_prior_probabilities(train_data)\n",
    "\n",
    "    # Calculate conditional probabilities\n",
    "    conditional_probabilities, feature_names = compute_conditional_probabilities(train_data)\n",
    "\n",
    "    return prior_probabilities, conditional_probabilities, feature_names"
   ]
  },
  {
   "cell_type": "code",
   "execution_count": 8,
   "metadata": {
    "executionInfo": {
     "elapsed": 9,
     "status": "ok",
     "timestamp": 1752419755145,
     "user": {
      "displayName": "AIO",
      "userId": "08245194604912763444"
     },
     "user_tz": -420
    },
    "id": "Kwa9m83M1N1V"
   },
   "outputs": [
    {
     "name": "stdout",
     "output_type": "stream",
     "text": [
      "prior_probablity: [0.4 0.6]\n",
      "conditional_probs: [array([[0.25      , 0.25      , 0.5       ],\n",
      "       [0.33333333, 0.5       , 0.16666667]]), array([[0.25      , 0.5       , 0.25      ],\n",
      "       [0.5       , 0.16666667, 0.33333333]]), array([[0.75      , 0.25      ],\n",
      "       [0.33333333, 0.66666667]]), array([[0.5       , 0.5       ],\n",
      "       [0.16666667, 0.83333333]])]\n",
      "feature_names: [array(['Overcast', 'Rain', 'Sunny'], dtype='<U8'), array(['Cool', 'Hot', 'Mild'], dtype='<U8'), array(['High', 'Normal'], dtype='<U8'), array(['Strong', 'Weak'], dtype='<U8')]\n"
     ]
    }
   ],
   "source": [
    "# Train the model\n",
    "prior_probs, conditional_probs, feature_names = train_naive_bayes(train_data)\n",
    "\n",
    "print(f\"prior_probablity: {prior_probablity}\")\n",
    "print(f\"conditional_probs: {conditional_probs}\")\n",
    "print(f\"feature_names: {feature_names}\")"
   ]
  },
  {
   "cell_type": "code",
   "execution_count": 9,
   "metadata": {
    "executionInfo": {
     "elapsed": 6,
     "status": "ok",
     "timestamp": 1752419906400,
     "user": {
      "displayName": "AIO",
      "userId": "08245194604912763444"
     },
     "user_tz": -420
    },
    "id": "fRDhxEEa1YSj"
   },
   "outputs": [],
   "source": [
    "def get_feature_index(feature_value, feature_values):\n",
    "    \"\"\"\n",
    "    Get the index of a feature value in the feature values array.\n",
    "\n",
    "    Args:\n",
    "        feature_value: Value to find\n",
    "        feature_values: Array of possible feature values\n",
    "\n",
    "    Returns:\n",
    "        Index of the feature value\n",
    "    \"\"\"\n",
    "    return np.where(feature_values == feature_value)[0][0]"
   ]
  },
  {
   "cell_type": "code",
   "execution_count": 10,
   "metadata": {},
   "outputs": [
    {
     "data": {
      "text/plain": [
       "[array(['Overcast', 'Rain', 'Sunny'], dtype='<U8'),\n",
       " array(['Cool', 'Hot', 'Mild'], dtype='<U8'),\n",
       " array(['High', 'Normal'], dtype='<U8'),\n",
       " array(['Strong', 'Weak'], dtype='<U8')]"
      ]
     },
     "execution_count": 10,
     "metadata": {},
     "output_type": "execute_result"
    }
   ],
   "source": [
    "feature_values"
   ]
  },
  {
   "cell_type": "code",
   "execution_count": 11,
   "metadata": {
    "colab": {
     "base_uri": "https://localhost:8080/"
    },
    "executionInfo": {
     "elapsed": 12,
     "status": "ok",
     "timestamp": 1752419914296,
     "user": {
      "displayName": "AIO",
      "userId": "08245194604912763444"
     },
     "user_tz": -420
    },
    "id": "_pa-LoGLxKAA",
    "outputId": "cff82dd2-f602-45e1-8480-176c129aa7ca"
   },
   "outputs": [
    {
     "name": "stdout",
     "output_type": "stream",
     "text": [
      "0 1 2\n"
     ]
    }
   ],
   "source": [
    "outlook = feature_values[0]\n",
    "i1 = get_feature_index(\"Overcast\", outlook)\n",
    "i2 = get_feature_index(\"Rain\", outlook)\n",
    "i3 = get_feature_index(\"Sunny\", outlook)\n",
    "\n",
    "print(i1, i2, i3)"
   ]
  },
  {
   "cell_type": "code",
   "execution_count": 12,
   "metadata": {
    "colab": {
     "base_uri": "https://localhost:8080/"
    },
    "executionInfo": {
     "elapsed": 16,
     "status": "ok",
     "timestamp": 1752419974509,
     "user": {
      "displayName": "AIO",
      "userId": "08245194604912763444"
     },
     "user_tz": -420
    },
    "id": "cPyq617u26aZ",
    "outputId": "8cccfc66-05e4-416a-a7d3-f49544864335"
   },
   "outputs": [
    {
     "name": "stdout",
     "output_type": "stream",
     "text": [
      "P('Outlook'='Sunny'|Play Tennis'='Yes') =  0.17\n"
     ]
    }
   ],
   "source": [
    "# Compute P(\"Outlook\"=\"Sunny\"|Play Tennis\"=\"Yes\")\n",
    "x1 = get_feature_index(\"Sunny\",feature_values[0])\n",
    "print(\"P('Outlook'='Sunny'|Play Tennis'='Yes') = \",\n",
    "      np.round(conditional_probs[0][1, x1],2)\n",
    ")"
   ]
  },
  {
   "cell_type": "code",
   "execution_count": 13,
   "metadata": {
    "colab": {
     "base_uri": "https://localhost:8080/"
    },
    "executionInfo": {
     "elapsed": 10,
     "status": "ok",
     "timestamp": 1752419982613,
     "user": {
      "displayName": "AIO",
      "userId": "08245194604912763444"
     },
     "user_tz": -420
    },
    "id": "CGBSQX6QXtfj",
    "outputId": "403e3059-b364-47a4-d265-960c826aafc8"
   },
   "outputs": [
    {
     "data": {
      "text/plain": [
       "[array([[0.25      , 0.25      , 0.5       ],\n",
       "        [0.33333333, 0.5       , 0.16666667]]),\n",
       " array([[0.25      , 0.5       , 0.25      ],\n",
       "        [0.5       , 0.16666667, 0.33333333]]),\n",
       " array([[0.75      , 0.25      ],\n",
       "        [0.33333333, 0.66666667]]),\n",
       " array([[0.5       , 0.5       ],\n",
       "        [0.16666667, 0.83333333]])]"
      ]
     },
     "execution_count": 13,
     "metadata": {},
     "output_type": "execute_result"
    }
   ],
   "source": [
    "conditional_probs"
   ]
  },
  {
   "cell_type": "code",
   "execution_count": 14,
   "metadata": {
    "colab": {
     "base_uri": "https://localhost:8080/"
    },
    "executionInfo": {
     "elapsed": 49,
     "status": "ok",
     "timestamp": 1752420055301,
     "user": {
      "displayName": "AIO",
      "userId": "08245194604912763444"
     },
     "user_tz": -420
    },
    "id": "cFvDAwb-xUlN",
    "outputId": "3f69eebd-15cc-4dc2-e7d2-98c9931b15a3"
   },
   "outputs": [
    {
     "name": "stdout",
     "output_type": "stream",
     "text": [
      "P('Outlook'='Sunny'|Play Tennis'='No') =  0.5\n"
     ]
    }
   ],
   "source": [
    "# Compute P(\"Outlook\"=\"Sunny\"|Play Tennis\"=\"No\")\n",
    "x1 = get_feature_index(\"Sunny\",feature_values[0])\n",
    "print(\n",
    "    \"P('Outlook'='Sunny'|Play Tennis'='No') = \",\n",
    "    np.round(conditional_probs[0][0, x1],2)\n",
    ")"
   ]
  },
  {
   "cell_type": "code",
   "execution_count": 15,
   "metadata": {
    "executionInfo": {
     "elapsed": 51,
     "status": "ok",
     "timestamp": 1752420400722,
     "user": {
      "displayName": "AIO",
      "userId": "08245194604912763444"
     },
     "user_tz": -420
    },
    "id": "U0kP2XyVxaPM"
   },
   "outputs": [],
   "source": [
    "def predict_tennis(\n",
    "        X, prior_probabilities, conditional_probabilities, feature_names\n",
    "    ):\n",
    "    \"\"\"\n",
    "    Make a prediction for given features.\n",
    "\n",
    "    Args:\n",
    "        X: List of feature values [Outlook, Temperature, Humidity, Wind]\n",
    "        prior_probabilities: Prior probabilities for each class\n",
    "        conditional_probabilities: Conditional probabilities for each feature\n",
    "        feature_names: Names/values for each feature\n",
    "\n",
    "    Returns:\n",
    "        Tuple of (prediction, probabilities)\n",
    "    \"\"\"\n",
    "    class_names = ['No', 'Yes']\n",
    "\n",
    "    # Get feature indices\n",
    "    feature_indices = [] # 2, 1, 1, 1\n",
    "    for i, feature_value in enumerate(X):\n",
    "        feature_indices.append(get_feature_index(feature_value, feature_names[i]))\n",
    "\n",
    "    # Calculate probabilities for each class\n",
    "    class_probabilities = []\n",
    "\n",
    "    for class_idx in range(len(class_names)):\n",
    "        # Start with prior probability\n",
    "        prob = prior_probabilities[class_idx]\n",
    "\n",
    "        # Multiply by conditional probabilities\n",
    "        for feature_idx, feature_value in enumerate(feature_indices):\n",
    "            prob *= conditional_probabilities[feature_idx][class_idx, feature_value]\n",
    "\n",
    "        class_probabilities.append(prob)\n",
    "\n",
    "        ### Your code here\n",
    "\n",
    "    # Normalize probabilities\n",
    "    print(class_probabilities)\n",
    "    total_prob = sum(class_probabilities) # 0.2 0.3\n",
    "    if total_prob > 0:\n",
    "        normalized_probs = [p / total_prob for p in class_probabilities]\n",
    "    else:\n",
    "        normalized_probs = [0.5, 0.5]  # Default if all probabilities are 0\n",
    "\n",
    "    # Make prediction\n",
    "    predicted_class_idx = np.argmax(class_probabilities)\n",
    "    prediction = class_names[predicted_class_idx]\n",
    "\n",
    "    # Create probability dictionary\n",
    "    prob_dict = {\n",
    "        'No': round(normalized_probs[0].item(), 2),\n",
    "        'Yes': round(normalized_probs[1].item(), 2)\n",
    "    }\n",
    "\n",
    "    return prediction, prob_dict"
   ]
  },
  {
   "cell_type": "code",
   "execution_count": 16,
   "metadata": {
    "colab": {
     "base_uri": "https://localhost:8080/"
    },
    "executionInfo": {
     "elapsed": 15,
     "status": "ok",
     "timestamp": 1752420402971,
     "user": {
      "displayName": "AIO",
      "userId": "08245194604912763444"
     },
     "user_tz": -420
    },
    "id": "T_nh07ko39gE",
    "outputId": "ca3e5377-00d6-4451-c5e4-e19db7a881ee"
   },
   "outputs": [
    {
     "name": "stdout",
     "output_type": "stream",
     "text": [
      "[0.018750000000000003, 0.002777777777777777]\n",
      "prediction: No\n",
      "prob_dict: {'No': 0.87, 'Yes': 0.13}\n",
      "Ad should not go!\n"
     ]
    }
   ],
   "source": [
    "X = ['Sunny','Cool', 'High', 'Strong']\n",
    "prior_probs, conditional_probs, feature_names = train_naive_bayes(train_data)\n",
    "prediction, prob_dict = predict_tennis(\n",
    "    X, prior_probs, conditional_probs, feature_names\n",
    ")\n",
    "print(f\"prediction: {prediction}\")\n",
    "\n",
    "print(f\"prob_dict: {prob_dict}\")\n",
    "\n",
    "if prediction == 'Yes':\n",
    "    print(\"Ad should go!\")\n",
    "else:\n",
    "    print(\"Ad should not go!\")"
   ]
  },
  {
   "cell_type": "markdown",
   "metadata": {},
   "source": [
    "## Traffic Data"
   ]
  },
  {
   "cell_type": "code",
   "execution_count": 30,
   "metadata": {},
   "outputs": [],
   "source": [
    "traffic_data = [['Weekday', 'Spring', 'None', 'None', 'On Time'], \n",
    "                ['Weekday', 'Winter', 'None', 'Slight', 'On Time'],\n",
    "                ['Weekday', 'Winter', 'None', 'None', 'On Time'],\n",
    "                ['Holiday', 'Winter', 'High', 'Slight', 'Late'],\n",
    "                ['Saturday', 'Summer', 'Normal', 'None', 'On Time'],\n",
    "                ['Weekday', 'Autumn', 'Normal', 'None', 'Very Late'],\n",
    "                ['Holiday', 'Summer', 'High', 'Slight', 'On Time'],\n",
    "                ['Sunday', 'Summer', 'Normal', 'None', 'On Time'],\n",
    "                ['Weekday', 'Winter', 'High', 'Heavy', 'Very Late'],\n",
    "                ['Weekday', 'Summer', 'None', 'Slight', 'On Time'],\n",
    "                ['Saturday', 'Spring', 'High', 'Heavy', 'Cancelled'],\n",
    "                ['Weekday', 'Summer', 'High', 'Slight', 'On Time'],\n",
    "                ['Weekday', 'Winter', 'Normal', 'None', 'Late'],\n",
    "                ['Weekday', 'Summer', 'High', 'None', 'On Time'],\n",
    "                ['Weekday', 'Winter', 'Normal', 'Heavy', 'Very Late'],\n",
    "                ['Saturday', 'Autumn', 'High', 'Slight', 'On Time'],\n",
    "                ['Weekday', 'Autumn', 'None', 'Heavy', 'On Time'],\n",
    "                ['Holiday', 'Spring', 'Normal', 'Slight', 'On Time'],\n",
    "                ['Weekday', 'Spring', 'Normal', 'None', 'On Time'],\n",
    "                ['Weekday', 'Spring', 'Normal', 'Heavy', 'On Time']]\n",
    "\n",
    "traffic_data = np.array(traffic_data)"
   ]
  },
  {
   "cell_type": "code",
   "execution_count": 31,
   "metadata": {},
   "outputs": [
    {
     "data": {
      "text/plain": [
       "numpy.ndarray"
      ]
     },
     "execution_count": 31,
     "metadata": {},
     "output_type": "execute_result"
    }
   ],
   "source": [
    "type(train_data)"
   ]
  },
  {
   "cell_type": "code",
   "execution_count": 32,
   "metadata": {},
   "outputs": [
    {
     "data": {
      "text/plain": [
       "numpy.ndarray"
      ]
     },
     "execution_count": 32,
     "metadata": {},
     "output_type": "execute_result"
    }
   ],
   "source": [
    "type(traffic_data)"
   ]
  },
  {
   "cell_type": "code",
   "execution_count": 33,
   "metadata": {},
   "outputs": [
    {
     "data": {
      "text/plain": [
       "array([0.7 , 0.1 , 0.15, 0.05])"
      ]
     },
     "execution_count": 33,
     "metadata": {},
     "output_type": "execute_result"
    }
   ],
   "source": [
    "def compute_prior_probabilities(train_data):\n",
    "    class_names = ['On Time', 'Late', 'Very Late', 'Cancelled']\n",
    "    total_samples = len(train_data)\n",
    "    prior_probs = np.zeros(len(class_names))\n",
    "    for i, class_name in enumerate(class_names):\n",
    "        class_count = np.sum(train_data[:, -1] == class_name)\n",
    "        prior_probs[i] = class_count / total_samples\n",
    "\n",
    "    return prior_probs\n",
    "\n",
    "prior_probablity = compute_prior_probabilities(traffic_data)\n",
    "prior_probablity"
   ]
  },
  {
   "cell_type": "code",
   "execution_count": 34,
   "metadata": {},
   "outputs": [],
   "source": [
    "def compute_conditional_probabilities(train_data):\n",
    "    \n",
    "    class_names = ['On Time', 'Late', 'Very Late', 'Cancelled']\n",
    "\n",
    "    n_features = train_data.shape[1] - 1  # Exclude target column\n",
    "    conditional_probs = []\n",
    "    feature_values = []\n",
    "\n",
    "    for feature_idx in range(n_features): # 0, 1, 2, 3\n",
    "        # Get unique values for this feature\n",
    "        unique_values = np.unique(train_data[:, feature_idx]) # 0: S, O R\n",
    "        feature_values.append(unique_values)\n",
    "\n",
    "        # Initialize conditional probability matrix\n",
    "        feature_cond_probs = np.zeros((len(class_names), len(unique_values)))\n",
    "        # 0: 2x3\n",
    "\n",
    "        for class_idx, class_name in enumerate(class_names):\n",
    "            # Get samples for this class\n",
    "            class_mask = train_data[:, -1] == class_name\n",
    "            class_samples = train_data[class_mask]\n",
    "\n",
    "            # Count occurrences of each feature value in this class\n",
    "\n",
    "            for value_idx, value in enumerate(unique_values):\n",
    "                # Count occurrences of this feature value in this class\n",
    "                # 0: S, O, R\n",
    "                feature_count = np.sum(class_samples[:, feature_idx] == value)\n",
    "                # Calculate conditional probability\n",
    "                feature_cond_probs[class_idx, value_idx] = feature_count / len(class_samples)\n",
    "\n",
    "        conditional_probs.append(feature_cond_probs)\n",
    "\n",
    "    return conditional_probs, feature_values"
   ]
  },
  {
   "cell_type": "code",
   "execution_count": 35,
   "metadata": {},
   "outputs": [],
   "source": [
    "def predict_traffic(X, prior_probabilities, conditional_probabilities, feature_names):\n",
    "\n",
    "    class_names = ['On Time', 'Late', 'Very Late', 'Cancelled']\n",
    "\n",
    "    # Get feature indices\n",
    "    feature_indices = [] # 2, 1, 1, 1\n",
    "    for i, feature_value in enumerate(X):\n",
    "        feature_indices.append(get_feature_index(feature_value, feature_names[i]))\n",
    "\n",
    "    # Calculate probabilities for each class\n",
    "    class_probabilities = []\n",
    "\n",
    "    for class_idx in range(len(class_names)):\n",
    "        # Start with prior probability\n",
    "        prob = prior_probabilities[class_idx]\n",
    "\n",
    "        # Multiply by conditional probabilities\n",
    "        for feature_idx, feature_value in enumerate(feature_indices):\n",
    "            prob *= conditional_probabilities[feature_idx][class_idx, feature_value]\n",
    "\n",
    "        class_probabilities.append(prob)\n",
    "\n",
    "        ### Your code here\n",
    "\n",
    "    # Normalize probabilities\n",
    "    print(class_probabilities)\n",
    "    total_prob = sum(class_probabilities) # 0.2 0.3\n",
    "    if total_prob > 0:\n",
    "        normalized_probs = [p / total_prob for p in class_probabilities]\n",
    "    else:\n",
    "        normalized_probs = [0.25, 0.25, 0.25, 0.25]  # Default if all probabilities are 0\n",
    "\n",
    "    # Make prediction\n",
    "    predicted_class_idx = np.argmax(class_probabilities)\n",
    "    prediction = class_names[predicted_class_idx]\n",
    "\n",
    "    # Create probability dictionary\n",
    "    prob_dict = {\n",
    "        'On Time': round(normalized_probs[0].item(), 2),\n",
    "        'Late': round(normalized_probs[1].item(), 2),\n",
    "        'Very Late': round(normalized_probs[2].item(), 2),\n",
    "        'Cancelled': round(normalized_probs[3].item(), 2)\n",
    "    }\n",
    "\n",
    "    return prediction, prob_dict"
   ]
  },
  {
   "cell_type": "code",
   "execution_count": 36,
   "metadata": {},
   "outputs": [
    {
     "name": "stdout",
     "output_type": "stream",
     "text": [
      "[0.0026239067055393583, 0.0, 0.022222222222222216, 0.0]\n",
      "prediction: Very Late\n",
      "prob_dict: {'On Time': 0.11, 'Late': 0.0, 'Very Late': 0.89, 'Cancelled': 0.0}\n"
     ]
    }
   ],
   "source": [
    "X = ['Weekday', 'Winter', 'High', 'Heavy']\n",
    "prior_probs, conditional_probs, feature_names = train_naive_bayes(traffic_data)\n",
    "prediction, prob_dict = predict_traffic(\n",
    "    X, prior_probs, conditional_probs, feature_names\n",
    ")\n",
    "print(f\"prediction: {prediction}\")\n",
    "\n",
    "print(f\"prob_dict: {prob_dict}\")"
   ]
  },
  {
   "cell_type": "markdown",
   "metadata": {},
   "source": [
    "## Iris Classification\n"
   ]
  },
  {
   "cell_type": "code",
   "execution_count": 51,
   "metadata": {},
   "outputs": [],
   "source": [
    "lengths = [1.4, 1.0, 1.3, 1.9, 2.0, 1.8, 3.0, 3.8, 4.1, 3.9, 4.2, 3.4]\n",
    "classes = [0, 0, 0, 0, 0, 0, 1, 1, 1, 1, 1, 1]\n",
    "\n",
    "lengths = np.array(lengths)\n",
    "classes = np.array(classes)"
   ]
  },
  {
   "cell_type": "code",
   "execution_count": 52,
   "metadata": {},
   "outputs": [
    {
     "data": {
      "text/plain": [
       "1.5666666666666667"
      ]
     },
     "execution_count": 52,
     "metadata": {},
     "output_type": "execute_result"
    }
   ],
   "source": [
    "mean_class_0 = np.mean(lengths[classes == 0])\n",
    "mean_class_0"
   ]
  },
  {
   "cell_type": "code",
   "execution_count": 62,
   "metadata": {},
   "outputs": [
    {
     "data": {
      "text/plain": [
       "0.15466666666666667"
      ]
     },
     "execution_count": 62,
     "metadata": {},
     "output_type": "execute_result"
    }
   ],
   "source": [
    "variance_class_0 = np.var(lengths[classes == 0], ddof=1)\n",
    "variance_class_0"
   ]
  },
  {
   "cell_type": "code",
   "execution_count": 63,
   "metadata": {},
   "outputs": [
    {
     "data": {
      "text/plain": [
       "3.733333333333333"
      ]
     },
     "execution_count": 63,
     "metadata": {},
     "output_type": "execute_result"
    }
   ],
   "source": [
    "mean_class_1 = np.mean(lengths[classes == 1])\n",
    "mean_class_1"
   ]
  },
  {
   "cell_type": "code",
   "execution_count": 64,
   "metadata": {},
   "outputs": [
    {
     "data": {
      "text/plain": [
       "0.20666666666666664"
      ]
     },
     "execution_count": 64,
     "metadata": {},
     "output_type": "execute_result"
    }
   ],
   "source": [
    "variance_class_1 = np.var(lengths[classes == 1], ddof=1)\n",
    "variance_class_1"
   ]
  },
  {
   "cell_type": "code",
   "execution_count": 65,
   "metadata": {},
   "outputs": [],
   "source": [
    "import math\n",
    "\n",
    "def gaussian_probability(x, mean, variance):\n",
    "    \"\"\"\n",
    "    Tính xác suất theo phân phối Gaussian (Normal)\n",
    "    P(x|μ,σ²) = (1/√(2πσ²)) * exp(-(x-μ)²/(2σ²))\n",
    "    \"\"\"\n",
    "    std_dev = math.sqrt(variance)  # độ lệch chuẩn σ = √variance\n",
    "    \n",
    "    # Tính từng thành phần\n",
    "    coefficient = 1 / (math.sqrt(2 * math.pi) * std_dev)\n",
    "    exponent = -((x - mean) ** 2) / (2 * variance)\n",
    "    probability = coefficient * math.exp(exponent)\n",
    "    \n",
    "    return probability"
   ]
  },
  {
   "cell_type": "code",
   "execution_count": 66,
   "metadata": {},
   "outputs": [
    {
     "data": {
      "text/plain": [
       "1.9378275382105394e-05"
      ]
     },
     "execution_count": 66,
     "metadata": {},
     "output_type": "execute_result"
    }
   ],
   "source": [
    "x_test = 3.4\n",
    "\n",
    "prob_class_0 = gaussian_probability(x_test, mean_class_0, variance_class_0)\n",
    "prob_class_0"
   ]
  },
  {
   "cell_type": "code",
   "execution_count": 67,
   "metadata": {},
   "outputs": [
    {
     "data": {
      "text/plain": [
       "0.6707011020792182"
      ]
     },
     "execution_count": 67,
     "metadata": {},
     "output_type": "execute_result"
    }
   ],
   "source": [
    "prob_class_1 = gaussian_probability(x_test, mean_class_1, variance_class_1)\n",
    "prob_class_1"
   ]
  },
  {
   "cell_type": "code",
   "execution_count": 70,
   "metadata": {},
   "outputs": [],
   "source": [
    "total_samples = len(classes)\n",
    "prior_class_0 = np.sum(classes == 0) / total_samples  # 6/12 = 0.5\n",
    "prior_class_1 = np.sum(classes == 1) / total_samples  # 6/12 = 0.5"
   ]
  },
  {
   "cell_type": "code",
   "execution_count": 73,
   "metadata": {},
   "outputs": [],
   "source": [
    "def gaussian_probability(x, mean, variance):\n",
    "    \"\"\"Tính P(x|μ,σ²) theo phân phối Gaussian\"\"\"\n",
    "    std_dev = math.sqrt(variance)\n",
    "    coefficient = 1 / (math.sqrt(2 * math.pi) * std_dev)\n",
    "    exponent = -((x - mean) ** 2) / (2 * variance)\n",
    "    return coefficient * math.exp(exponent)"
   ]
  },
  {
   "cell_type": "code",
   "execution_count": 82,
   "metadata": {},
   "outputs": [
    {
     "name": "stdout",
     "output_type": "stream",
     "text": [
      "likelihood_class_0: 1.9378275382105394e-05\n",
      "likelihood_class_1: 0.6707011020792182\n"
     ]
    }
   ],
   "source": [
    "# Điểm cần dự đoán\n",
    "x_test = 3.4\n",
    "\n",
    "# Bước 1: Tính likelihood P(X|Class)\n",
    "likelihood_class_0 = gaussian_probability(x_test, mean_class_0, variance_class_0)\n",
    "print(f\"likelihood_class_0: {likelihood_class_0}\")\n",
    "likelihood_class_1 = gaussian_probability(x_test, mean_class_1, variance_class_1)\n",
    "print(f\"likelihood_class_1: {likelihood_class_1}\")"
   ]
  },
  {
   "cell_type": "code",
   "execution_count": 81,
   "metadata": {},
   "outputs": [
    {
     "name": "stdout",
     "output_type": "stream",
     "text": [
      "numerator_class_0: 9.689137691052697e-06\n",
      "numerator_class_1: 0.3353505510396091\n"
     ]
    }
   ],
   "source": [
    "# Bước 2: Tính numerator = P(X|Class) × P(Class)\n",
    "numerator_class_0 = likelihood_class_0 * prior_class_0\n",
    "print(f\"numerator_class_0: {numerator_class_0}\")\n",
    "numerator_class_1 = likelihood_class_1 * prior_class_1\n",
    "print(f\"numerator_class_1: {numerator_class_1}\")"
   ]
  },
  {
   "cell_type": "code",
   "execution_count": 84,
   "metadata": {},
   "outputs": [
    {
     "name": "stdout",
     "output_type": "stream",
     "text": [
      "marginal_prob: 0.33536024017730015\n"
     ]
    }
   ],
   "source": [
    "# Bước 3: Tính marginal probability P(X)\n",
    "marginal_prob = numerator_class_0 + numerator_class_1\n",
    "print(f\"marginal_prob: {marginal_prob}\")"
   ]
  },
  {
   "cell_type": "code",
   "execution_count": 85,
   "metadata": {},
   "outputs": [
    {
     "name": "stdout",
     "output_type": "stream",
     "text": [
      "posterior_class_0: 2.889173053409727e-05\n",
      "posterior_class_1: 0.9999711082694659\n"
     ]
    }
   ],
   "source": [
    "# Bước 4: Tính posterior P(Class|X)\n",
    "posterior_class_0 = numerator_class_0 / marginal_prob\n",
    "print(f\"posterior_class_0: {posterior_class_0}\")\n",
    "posterior_class_1 = numerator_class_1 / marginal_prob\n",
    "print(f\"posterior_class_1: {posterior_class_1}\")"
   ]
  },
  {
   "cell_type": "code",
   "execution_count": 87,
   "metadata": {},
   "outputs": [
    {
     "name": "stdout",
     "output_type": "stream",
     "text": [
      "P(Class=0|X) ∝ 9.69e-06\n",
      "P(Class=1|X) ∝ 0.3354\n"
     ]
    }
   ],
   "source": [
    "print(f\"P(Class=0|X) ∝ {numerator_class_0:.2e}\")\n",
    "print(f\"P(Class=1|X) ∝ {numerator_class_1:.4f}\")"
   ]
  },
  {
   "cell_type": "markdown",
   "metadata": {},
   "source": [
    "## END"
   ]
  }
 ],
 "metadata": {
  "colab": {
   "provenance": [],
   "toc_visible": true
  },
  "kernelspec": {
   "display_name": "Python 3",
   "language": "python",
   "name": "python3"
  },
  "language_info": {
   "codemirror_mode": {
    "name": "ipython",
    "version": 3
   },
   "file_extension": ".py",
   "mimetype": "text/x-python",
   "name": "python",
   "nbconvert_exporter": "python",
   "pygments_lexer": "ipython3",
   "version": "3.10.16"
  }
 },
 "nbformat": 4,
 "nbformat_minor": 0
}
